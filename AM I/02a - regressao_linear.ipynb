{
 "cells": [
  {
   "attachments": {},
   "cell_type": "markdown",
   "metadata": {},
   "source": [
    "# Regressão Linear \n",
    "***"
   ]
  },
  {
   "attachments": {},
   "cell_type": "markdown",
   "metadata": {},
   "source": [
    "## Importanto Bibliotecas"
   ]
  },
  {
   "cell_type": "code",
   "execution_count": 2,
   "metadata": {},
   "outputs": [],
   "source": [
    "# Bibliotecas de manipualção e visualização de dados\n",
    "import pandas as pd\n",
    "import matplotlib.pyplot as plt\n",
    "\n",
    "# Classes dos modelo\n",
    "from sklearn.linear_model import LinearRegression\n",
    "\n",
    "#Funções de avaliação dos modelos\n",
    "from sklearn.metrics import  mean_squared_error, r2_score\n",
    "from sklearn.model_selection import train_test_split"
   ]
  },
  {
   "attachments": {},
   "cell_type": "markdown",
   "metadata": {},
   "source": [
    "**House-16H dataset**:\n",
    "\n",
    "A tarefa é prever o preço médio da casa na região com base na composição demográfica e no estado do mercado imobiliário na região. [Saiba mais](https://sci2s.ugr.es/keel/dataset.php?cod=95#sub1)."
   ]
  },
  {
   "cell_type": "code",
   "execution_count": 3,
   "metadata": {},
   "outputs": [],
   "source": [
    "dataset = pd.read_csv(\"https://raw.githubusercontent.com/johnattandouglas/monitoria-ml/main/Datasets/house.csv\")"
   ]
  },
  {
   "cell_type": "markdown",
   "metadata": {},
   "source": [
    "**House Prices Dataset**"
   ]
  },
  {
   "cell_type": "code",
   "execution_count": 4,
   "metadata": {},
   "outputs": [
    {
     "data": {
      "text/plain": [
       "Index(['Price', 'P1', ' P5p1', ' P6p2', ' P11p4', ' P14p9', ' P15p1', ' P15p3',\n",
       "       ' P16p2', ' P18p2', ' P27p4', ' H2p2', ' H8p2', ' H10p1', ' H13p1',\n",
       "       ' H18pA', ' H40p4'],\n",
       "      dtype='object')"
      ]
     },
     "execution_count": 4,
     "metadata": {},
     "output_type": "execute_result"
    }
   ],
   "source": [
    "dataset.columns"
   ]
  },
  {
   "cell_type": "code",
   "execution_count": 6,
   "metadata": {},
   "outputs": [
    {
     "data": {
      "text/html": [
       "<div>\n",
       "<style scoped>\n",
       "    .dataframe tbody tr th:only-of-type {\n",
       "        vertical-align: middle;\n",
       "    }\n",
       "\n",
       "    .dataframe tbody tr th {\n",
       "        vertical-align: top;\n",
       "    }\n",
       "\n",
       "    .dataframe thead th {\n",
       "        text-align: right;\n",
       "    }\n",
       "</style>\n",
       "<table border=\"1\" class=\"dataframe\">\n",
       "  <thead>\n",
       "    <tr style=\"text-align: right;\">\n",
       "      <th></th>\n",
       "      <th>Price</th>\n",
       "      <th>P1</th>\n",
       "      <th>P5p1</th>\n",
       "      <th>P6p2</th>\n",
       "      <th>P11p4</th>\n",
       "      <th>P14p9</th>\n",
       "      <th>P15p1</th>\n",
       "      <th>P15p3</th>\n",
       "      <th>P16p2</th>\n",
       "      <th>P18p2</th>\n",
       "      <th>P27p4</th>\n",
       "      <th>H2p2</th>\n",
       "      <th>H8p2</th>\n",
       "      <th>H10p1</th>\n",
       "      <th>H13p1</th>\n",
       "      <th>H18pA</th>\n",
       "      <th>H40p4</th>\n",
       "    </tr>\n",
       "  </thead>\n",
       "  <tbody>\n",
       "    <tr>\n",
       "      <th>0</th>\n",
       "      <td>14999</td>\n",
       "      <td>219</td>\n",
       "      <td>0.506849</td>\n",
       "      <td>0.031963</td>\n",
       "      <td>0.146119</td>\n",
       "      <td>0.101852</td>\n",
       "      <td>0.876712</td>\n",
       "      <td>0.000000</td>\n",
       "      <td>0.746988</td>\n",
       "      <td>0.012048</td>\n",
       "      <td>0.060241</td>\n",
       "      <td>0.231482</td>\n",
       "      <td>0.024096</td>\n",
       "      <td>0.987952</td>\n",
       "      <td>0.351852</td>\n",
       "      <td>0.000000</td>\n",
       "      <td>0.800000</td>\n",
       "    </tr>\n",
       "    <tr>\n",
       "      <th>1</th>\n",
       "      <td>106200</td>\n",
       "      <td>2273</td>\n",
       "      <td>0.495381</td>\n",
       "      <td>0.018918</td>\n",
       "      <td>0.067312</td>\n",
       "      <td>0.045336</td>\n",
       "      <td>0.794545</td>\n",
       "      <td>0.016718</td>\n",
       "      <td>0.641053</td>\n",
       "      <td>0.002105</td>\n",
       "      <td>0.076842</td>\n",
       "      <td>0.064961</td>\n",
       "      <td>0.017895</td>\n",
       "      <td>0.997895</td>\n",
       "      <td>0.170276</td>\n",
       "      <td>0.054217</td>\n",
       "      <td>0.258064</td>\n",
       "    </tr>\n",
       "    <tr>\n",
       "      <th>2</th>\n",
       "      <td>14999</td>\n",
       "      <td>564</td>\n",
       "      <td>0.457447</td>\n",
       "      <td>0.058511</td>\n",
       "      <td>0.299645</td>\n",
       "      <td>0.238562</td>\n",
       "      <td>0.764184</td>\n",
       "      <td>0.010638</td>\n",
       "      <td>0.567273</td>\n",
       "      <td>0.003636</td>\n",
       "      <td>0.014545</td>\n",
       "      <td>0.140625</td>\n",
       "      <td>0.054545</td>\n",
       "      <td>0.996364</td>\n",
       "      <td>0.381250</td>\n",
       "      <td>0.056180</td>\n",
       "      <td>1.000000</td>\n",
       "    </tr>\n",
       "    <tr>\n",
       "      <th>3</th>\n",
       "      <td>29900</td>\n",
       "      <td>620</td>\n",
       "      <td>0.495161</td>\n",
       "      <td>0.003226</td>\n",
       "      <td>0.104839</td>\n",
       "      <td>0.086262</td>\n",
       "      <td>0.909677</td>\n",
       "      <td>0.000000</td>\n",
       "      <td>0.792793</td>\n",
       "      <td>0.009009</td>\n",
       "      <td>0.027027</td>\n",
       "      <td>0.051282</td>\n",
       "      <td>0.004504</td>\n",
       "      <td>0.995495</td>\n",
       "      <td>0.183761</td>\n",
       "      <td>0.162791</td>\n",
       "      <td>0.000000</td>\n",
       "    </tr>\n",
       "    <tr>\n",
       "      <th>4</th>\n",
       "      <td>85900</td>\n",
       "      <td>3809</td>\n",
       "      <td>0.491730</td>\n",
       "      <td>0.205303</td>\n",
       "      <td>0.107115</td>\n",
       "      <td>0.085744</td>\n",
       "      <td>0.899449</td>\n",
       "      <td>0.000000</td>\n",
       "      <td>0.766566</td>\n",
       "      <td>0.008283</td>\n",
       "      <td>0.039910</td>\n",
       "      <td>0.017024</td>\n",
       "      <td>0.200301</td>\n",
       "      <td>0.985693</td>\n",
       "      <td>0.198372</td>\n",
       "      <td>0.106557</td>\n",
       "      <td>0.666667</td>\n",
       "    </tr>\n",
       "    <tr>\n",
       "      <th>5</th>\n",
       "      <td>14999</td>\n",
       "      <td>133</td>\n",
       "      <td>0.466165</td>\n",
       "      <td>0.000000</td>\n",
       "      <td>0.248120</td>\n",
       "      <td>0.239437</td>\n",
       "      <td>0.812030</td>\n",
       "      <td>0.000000</td>\n",
       "      <td>0.644068</td>\n",
       "      <td>0.016949</td>\n",
       "      <td>0.016949</td>\n",
       "      <td>0.271605</td>\n",
       "      <td>0.000000</td>\n",
       "      <td>1.000000</td>\n",
       "      <td>0.197531</td>\n",
       "      <td>0.000000</td>\n",
       "      <td>1.000000</td>\n",
       "    </tr>\n",
       "    <tr>\n",
       "      <th>6</th>\n",
       "      <td>25500</td>\n",
       "      <td>267</td>\n",
       "      <td>0.460674</td>\n",
       "      <td>0.000000</td>\n",
       "      <td>0.134831</td>\n",
       "      <td>0.131944</td>\n",
       "      <td>0.913858</td>\n",
       "      <td>0.000000</td>\n",
       "      <td>0.776596</td>\n",
       "      <td>0.000000</td>\n",
       "      <td>0.021277</td>\n",
       "      <td>0.153153</td>\n",
       "      <td>0.000000</td>\n",
       "      <td>0.989362</td>\n",
       "      <td>0.297297</td>\n",
       "      <td>0.240000</td>\n",
       "      <td>0.000000</td>\n",
       "    </tr>\n",
       "    <tr>\n",
       "      <th>7</th>\n",
       "      <td>23800</td>\n",
       "      <td>248</td>\n",
       "      <td>0.491936</td>\n",
       "      <td>0.161290</td>\n",
       "      <td>0.197581</td>\n",
       "      <td>0.126984</td>\n",
       "      <td>0.911290</td>\n",
       "      <td>0.000000</td>\n",
       "      <td>0.787234</td>\n",
       "      <td>0.000000</td>\n",
       "      <td>0.021277</td>\n",
       "      <td>0.104762</td>\n",
       "      <td>0.127660</td>\n",
       "      <td>1.000000</td>\n",
       "      <td>0.161905</td>\n",
       "      <td>0.115385</td>\n",
       "      <td>1.000000</td>\n",
       "    </tr>\n",
       "    <tr>\n",
       "      <th>8</th>\n",
       "      <td>134600</td>\n",
       "      <td>6614</td>\n",
       "      <td>0.498790</td>\n",
       "      <td>0.004687</td>\n",
       "      <td>0.072120</td>\n",
       "      <td>0.058220</td>\n",
       "      <td>0.937406</td>\n",
       "      <td>0.000000</td>\n",
       "      <td>0.847794</td>\n",
       "      <td>0.001983</td>\n",
       "      <td>0.039167</td>\n",
       "      <td>0.014656</td>\n",
       "      <td>0.004462</td>\n",
       "      <td>0.994546</td>\n",
       "      <td>0.100147</td>\n",
       "      <td>0.134503</td>\n",
       "      <td>0.400000</td>\n",
       "    </tr>\n",
       "    <tr>\n",
       "      <th>9</th>\n",
       "      <td>28900</td>\n",
       "      <td>22995</td>\n",
       "      <td>0.492890</td>\n",
       "      <td>0.001000</td>\n",
       "      <td>0.039356</td>\n",
       "      <td>0.034560</td>\n",
       "      <td>0.978213</td>\n",
       "      <td>0.000000</td>\n",
       "      <td>0.926131</td>\n",
       "      <td>0.003436</td>\n",
       "      <td>0.012789</td>\n",
       "      <td>0.038539</td>\n",
       "      <td>0.001336</td>\n",
       "      <td>0.070624</td>\n",
       "      <td>0.467058</td>\n",
       "      <td>0.364839</td>\n",
       "      <td>0.782609</td>\n",
       "    </tr>\n",
       "  </tbody>\n",
       "</table>\n",
       "</div>"
      ],
      "text/plain": [
       "    Price     P1      P5p1      P6p2     P11p4     P14p9     P15p1     P15p3  \\\n",
       "0   14999    219  0.506849  0.031963  0.146119  0.101852  0.876712  0.000000   \n",
       "1  106200   2273  0.495381  0.018918  0.067312  0.045336  0.794545  0.016718   \n",
       "2   14999    564  0.457447  0.058511  0.299645  0.238562  0.764184  0.010638   \n",
       "3   29900    620  0.495161  0.003226  0.104839  0.086262  0.909677  0.000000   \n",
       "4   85900   3809  0.491730  0.205303  0.107115  0.085744  0.899449  0.000000   \n",
       "5   14999    133  0.466165  0.000000  0.248120  0.239437  0.812030  0.000000   \n",
       "6   25500    267  0.460674  0.000000  0.134831  0.131944  0.913858  0.000000   \n",
       "7   23800    248  0.491936  0.161290  0.197581  0.126984  0.911290  0.000000   \n",
       "8  134600   6614  0.498790  0.004687  0.072120  0.058220  0.937406  0.000000   \n",
       "9   28900  22995  0.492890  0.001000  0.039356  0.034560  0.978213  0.000000   \n",
       "\n",
       "      P16p2     P18p2     P27p4      H2p2      H8p2     H10p1     H13p1  \\\n",
       "0  0.746988  0.012048  0.060241  0.231482  0.024096  0.987952  0.351852   \n",
       "1  0.641053  0.002105  0.076842  0.064961  0.017895  0.997895  0.170276   \n",
       "2  0.567273  0.003636  0.014545  0.140625  0.054545  0.996364  0.381250   \n",
       "3  0.792793  0.009009  0.027027  0.051282  0.004504  0.995495  0.183761   \n",
       "4  0.766566  0.008283  0.039910  0.017024  0.200301  0.985693  0.198372   \n",
       "5  0.644068  0.016949  0.016949  0.271605  0.000000  1.000000  0.197531   \n",
       "6  0.776596  0.000000  0.021277  0.153153  0.000000  0.989362  0.297297   \n",
       "7  0.787234  0.000000  0.021277  0.104762  0.127660  1.000000  0.161905   \n",
       "8  0.847794  0.001983  0.039167  0.014656  0.004462  0.994546  0.100147   \n",
       "9  0.926131  0.003436  0.012789  0.038539  0.001336  0.070624  0.467058   \n",
       "\n",
       "      H18pA     H40p4  \n",
       "0  0.000000  0.800000  \n",
       "1  0.054217  0.258064  \n",
       "2  0.056180  1.000000  \n",
       "3  0.162791  0.000000  \n",
       "4  0.106557  0.666667  \n",
       "5  0.000000  1.000000  \n",
       "6  0.240000  0.000000  \n",
       "7  0.115385  1.000000  \n",
       "8  0.134503  0.400000  \n",
       "9  0.364839  0.782609  "
      ]
     },
     "execution_count": 6,
     "metadata": {},
     "output_type": "execute_result"
    }
   ],
   "source": [
    "dataset.head(10)"
   ]
  },
  {
   "attachments": {},
   "cell_type": "markdown",
   "metadata": {},
   "source": [
    "### Separando o conjunto de dados "
   ]
  },
  {
   "cell_type": "code",
   "execution_count": 7,
   "metadata": {},
   "outputs": [],
   "source": [
    "X = dataset.drop([\"Price\"], axis = 1)\n",
    "# remoção é feita nas colunas (eixo 1), não nas linhas (eixo 0)\n",
    "y = dataset[\"Price\"]\n",
    "\n",
    "X_train, X_test, y_train, y_test = train_test_split(X,y)"
   ]
  },
  {
   "attachments": {},
   "cell_type": "markdown",
   "metadata": {},
   "source": [
    "## Treinamento do modelo"
   ]
  },
  {
   "attachments": {},
   "cell_type": "markdown",
   "metadata": {},
   "source": [
    "A regressão linear é um modelo de regressão. Lembrando da fómula da equação linear: $y = a \\times x  + b$"
   ]
  },
  {
   "cell_type": "code",
   "execution_count": 8,
   "metadata": {},
   "outputs": [
    {
     "name": "stdout",
     "output_type": "stream",
     "text": [
      "MSE: 1989919383.7665837\n",
      "R2_score: 0.26855146413491016\n"
     ]
    }
   ],
   "source": [
    "regression_model = LinearRegression()\n",
    "regression_model.fit(X_train, y_train)\n",
    "\n",
    "y_pred = regression_model.predict(X_test)\n",
    "\n",
    "print(\"MSE:\", mean_squared_error(y_test, y_pred))\n",
    "print(\"R2_score:\", r2_score(y_test, y_pred))"
   ]
  },
  {
   "cell_type": "markdown",
   "metadata": {},
   "source": [
    "<!-- ![imagem](https://raw.githubusercontent.com/NeuromatchAcademy/course-content/main/tutorials/W1D2_ModelFitting/static/W1D2_Tutorial1_Solution_7a89ba24_0.png) -->\n",
    "<img src=\"https://raw.githubusercontent.com/NeuromatchAcademy/course-content/main/tutorials/W1D2_ModelFitting/static/W1D2_Tutorial1_Solution_7a89ba24_0.png\" alt=\"Descrição da MSE\" width=\"600\"/>"
   ]
  },
  {
   "attachments": {},
   "cell_type": "markdown",
   "metadata": {},
   "source": [
    "MSE = $\\frac{1}{n} \\sum\\limits_{i = 1}^{n}(y_i-\\hat{y_i})^2$"
   ]
  },
  {
   "cell_type": "code",
   "execution_count": 10,
   "metadata": {},
   "outputs": [
    {
     "data": {
      "text/plain": [
       "Text(0.5, 1.0, 'True x Predicted')"
      ]
     },
     "execution_count": 10,
     "metadata": {},
     "output_type": "execute_result"
    },
    {
     "data": {
      "image/png": "[encoded data removed]",
      "text/plain": [
       "<Figure size 1500x1000 with 1 Axes>"
      ]
     },
     "metadata": {},
     "output_type": "display_data"
    }
   ],
   "source": [
    "plt.figure(figsize=(15,10))\n",
    "# Plotando y_test com a cor vermelha\n",
    "plt.scatter(y_test, y_pred)\n",
    "plt.xlabel(\"True\")\n",
    "plt.ylabel(\"Pred\")\n",
    "plt.title(\"True x Predicted\")\n",
    "\n"
   ]
  },
  {
   "cell_type": "code",
   "execution_count": 11,
   "metadata": {},
   "outputs": [
    {
     "data": {
      "text/html": [
       "<div>\n",
       "<style scoped>\n",
       "    .dataframe tbody tr th:only-of-type {\n",
       "        vertical-align: middle;\n",
       "    }\n",
       "\n",
       "    .dataframe tbody tr th {\n",
       "        vertical-align: top;\n",
       "    }\n",
       "\n",
       "    .dataframe thead th {\n",
       "        text-align: right;\n",
       "    }\n",
       "</style>\n",
       "<table border=\"1\" class=\"dataframe\">\n",
       "  <thead>\n",
       "    <tr style=\"text-align: right;\">\n",
       "      <th></th>\n",
       "      <th>True Value</th>\n",
       "      <th>Predicted value</th>\n",
       "      <th>Difference</th>\n",
       "    </tr>\n",
       "  </thead>\n",
       "  <tbody>\n",
       "    <tr>\n",
       "      <th>11819</th>\n",
       "      <td>49500</td>\n",
       "      <td>45786.97</td>\n",
       "      <td>3713.03</td>\n",
       "    </tr>\n",
       "    <tr>\n",
       "      <th>1998</th>\n",
       "      <td>37500</td>\n",
       "      <td>46027.55</td>\n",
       "      <td>-8527.55</td>\n",
       "    </tr>\n",
       "    <tr>\n",
       "      <th>16397</th>\n",
       "      <td>103500</td>\n",
       "      <td>54722.38</td>\n",
       "      <td>48777.62</td>\n",
       "    </tr>\n",
       "    <tr>\n",
       "      <th>12636</th>\n",
       "      <td>28200</td>\n",
       "      <td>27184.90</td>\n",
       "      <td>1015.10</td>\n",
       "    </tr>\n",
       "    <tr>\n",
       "      <th>22190</th>\n",
       "      <td>36000</td>\n",
       "      <td>58641.08</td>\n",
       "      <td>-22641.08</td>\n",
       "    </tr>\n",
       "    <tr>\n",
       "      <th>...</th>\n",
       "      <td>...</td>\n",
       "      <td>...</td>\n",
       "      <td>...</td>\n",
       "    </tr>\n",
       "    <tr>\n",
       "      <th>3285</th>\n",
       "      <td>78400</td>\n",
       "      <td>37354.11</td>\n",
       "      <td>41045.89</td>\n",
       "    </tr>\n",
       "    <tr>\n",
       "      <th>21409</th>\n",
       "      <td>50000</td>\n",
       "      <td>55808.47</td>\n",
       "      <td>-5808.47</td>\n",
       "    </tr>\n",
       "    <tr>\n",
       "      <th>18174</th>\n",
       "      <td>54800</td>\n",
       "      <td>62232.24</td>\n",
       "      <td>-7432.24</td>\n",
       "    </tr>\n",
       "    <tr>\n",
       "      <th>17658</th>\n",
       "      <td>32300</td>\n",
       "      <td>36623.76</td>\n",
       "      <td>-4323.76</td>\n",
       "    </tr>\n",
       "    <tr>\n",
       "      <th>1420</th>\n",
       "      <td>19800</td>\n",
       "      <td>51189.91</td>\n",
       "      <td>-31389.91</td>\n",
       "    </tr>\n",
       "  </tbody>\n",
       "</table>\n",
       "<p>5696 rows × 3 columns</p>\n",
       "</div>"
      ],
      "text/plain": [
       "       True Value  Predicted value  Difference\n",
       "11819       49500         45786.97     3713.03\n",
       "1998        37500         46027.55    -8527.55\n",
       "16397      103500         54722.38    48777.62\n",
       "12636       28200         27184.90     1015.10\n",
       "22190       36000         58641.08   -22641.08\n",
       "...           ...              ...         ...\n",
       "3285        78400         37354.11    41045.89\n",
       "21409       50000         55808.47    -5808.47\n",
       "18174       54800         62232.24    -7432.24\n",
       "17658       32300         36623.76    -4323.76\n",
       "1420        19800         51189.91   -31389.91\n",
       "\n",
       "[5696 rows x 3 columns]"
      ]
     },
     "execution_count": 11,
     "metadata": {},
     "output_type": "execute_result"
    }
   ],
   "source": [
    "pred_y_df = pd.DataFrame({\"True Value\": y_test, \"Predicted value\": y_pred, \"Difference\": y_test-y_pred}).round(2)\n",
    "pred_y_df"
   ]
  }
 ],
 "metadata": {
  "kernelspec": {
   "display_name": "Python 3",
   "language": "python",
   "name": "python3"
  },
  "language_info": {
   "codemirror_mode": {
    "name": "ipython",
    "version": 3
   },
   "file_extension": ".py",
   "mimetype": "text/x-python",
   "name": "python",
   "nbconvert_exporter": "python",
   "pygments_lexer": "ipython3",
   "version": "3.11.9"
  }
 },
 "nbformat": 4,
 "nbformat_minor": 4
}
