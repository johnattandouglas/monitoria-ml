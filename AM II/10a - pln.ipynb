{
 "cells": [
  {
   "cell_type": "markdown",
   "metadata": {},
   "source": [
    "# Processamento de Linguagem Natural\n",
    "\n",
    "***"
   ]
  },
  {
   "cell_type": "markdown",
   "metadata": {},
   "source": [
    "## Importando bibliotecas"
   ]
  },
  {
   "cell_type": "code",
   "execution_count": 1,
   "metadata": {},
   "outputs": [],
   "source": [
    "# Bibliotecas de manipualção e visualização de dados\n",
    "import numpy as np\n",
    "import pandas as pd\n",
    "import matplotlib.pyplot as plt\n",
    "import seaborn as sns\n",
    "from mlxtend.plotting import plot_decision_regions\n",
    "\n",
    "# Classes do modelo\n",
    "from sklearn.linear_model import LogisticRegression\n",
    "\n",
    "# Funções de avaliação dos modelos\n",
    "from sklearn.metrics import classification_report\n",
    "from sklearn.model_selection import train_test_split, GridSearchCV\n",
    "\n",
    "import warnings\n",
    "warnings.filterwarnings('ignore')"
   ]
  },
  {
   "cell_type": "markdown",
   "metadata": {},
   "source": [
    "## Análise do conjunto de dados"
   ]
  },
  {
   "cell_type": "markdown",
   "metadata": {},
   "source": [
    "**HatEval** : Este conjunto de dados faz parte da competição SemEval 2019 Task 5 [(Basile et al., 2019)](https://aclanthology.org/S19-2007.pdf) que consiste na detecção de discurso de ódio contra imigrantes e mulheres. Vamos consider apenas a subtarefa A English, um problema de classificação binária para detectar se um tweet em inglês contém discurso de ódio. Mais informações sobre o conjunto de dados HatEval podem ser encontradas em sua página do GitHub: https://github.com/msang/hateval."
   ]
  },
  {
   "cell_type": "code",
   "execution_count": 2,
   "metadata": {},
   "outputs": [],
   "source": [
    "# Esse dataset já é dividido em treinamento, teste e validação\n",
    "train = pd.read_csv(\"https://raw.githubusercontent.com/johnattandouglas/monitoria-ml/main/Datasets/hateval/train.csv\")\n",
    "test = pd.read_csv(\"https://raw.githubusercontent.com/johnattandouglas/monitoria-ml/main/Datasets/hateval/test.csv\")\n",
    "val = pd.read_csv(\"https://raw.githubusercontent.com/johnattandouglas/monitoria-ml/main/Datasets/hateval/val.csv\")"
   ]
  },
  {
   "cell_type": "markdown",
   "metadata": {},
   "source": [
    "Vamos observar algumas características de dataset"
   ]
  },
  {
   "cell_type": "code",
   "execution_count": 3,
   "metadata": {},
   "outputs": [
    {
     "name": "stdout",
     "output_type": "stream",
     "text": [
      "Quantidade de exemplos em cada conjunto\n",
      "\n",
      " TREINAMENTO: 9000\n",
      "\n",
      " TESTE: 3000\n",
      "\n",
      " VALIDAÇÃO: 1000\n",
      "\n",
      " Distribuição dos dados por classe\n"
     ]
    },
    {
     "data": {
      "text/plain": [
       "Text(0.5, 1.0, 'Validação')"
      ]
     },
     "execution_count": 3,
     "metadata": {},
     "output_type": "execute_result"
    },
    {
     "data": {
      "image/png": "[encoded data removed]",
      "text/plain": [
       "<Figure size 1200x500 with 3 Axes>"
      ]
     },
     "metadata": {},
     "output_type": "display_data"
    }
   ],
   "source": [
    "# Distribuição dos dados por \n",
    "print(\"Quantidade de exemplos em cada conjunto\")\n",
    "\n",
    "print(\"\\n TREINAMENTO:\", train.shape[0])\n",
    "\n",
    "print(\"\\n TESTE:\", test.shape[0])\n",
    "\n",
    "print(\"\\n VALIDAÇÃO:\", val.shape[0])\n",
    "\n",
    "print(\"\\n Distribuição dos dados por classe\")\n",
    "\n",
    "fig, ax = plt.subplots(1,3, figsize=(12,5))\n",
    "#percentual \n",
    "sns.barplot(x=\"norm\", y=\"label\",  data=train,ax=ax[0], order=[\"non-hateful\", \"hateful\"],  estimator=lambda x: len(x) / len(train) * 100)\n",
    "ax[0].set_title(\"Treinamento\")\n",
    "sns.barplot(x=\"norm\", y=\"label\", data=test, ax=ax[1], order=[\"non-hateful\", \"hateful\"], estimator=lambda x: len(x) / len(test) * 100)\n",
    "ax[1].set_title(\"Teste\")\n",
    "sns.barplot(x=\"norm\", y=\"label\", data=val, ax=ax[2], order=[\"non-hateful\", \"hateful\"], estimator=lambda x: len(x) / len(val) * 100)\n",
    "ax[2].set_title(\"Validação\")\n",
    "\n",
    "# Se quiser visualizar a contagem \n",
    "# sns.countplot(x=\"label\", data=train, ax=ax[0])\n",
    "# sns.countplot(x=\"label\", data=test, ax=ax[1])\n",
    "# sns.countplot(x=\"label\", data=val, ax=ax[2])\n",
    "\n",
    "# 58%: non-hateful \n",
    "# 42%: hateful"
   ]
  },
  {
   "cell_type": "markdown",
   "metadata": {},
   "source": [
    "**Vamos observar os dados**\n",
    "\n",
    "* Features: texto em linguagem natural\n",
    "\n",
    "* Características do texto: obtido a partir de redes sociais (Twitter). Possui alguns elementos como: menções (“i.e.,$@usuario$\"), URLs ( “$http[s]://$\"), RT símbolos, números e etc.\n",
    "\n",
    "\n"
   ]
  },
  {
   "cell_type": "code",
   "execution_count": 4,
   "metadata": {},
   "outputs": [
    {
     "data": {
      "text/html": [
       "<div>\n",
       "<style scoped>\n",
       "    .dataframe tbody tr th:only-of-type {\n",
       "        vertical-align: middle;\n",
       "    }\n",
       "\n",
       "    .dataframe tbody tr th {\n",
       "        vertical-align: top;\n",
       "    }\n",
       "\n",
       "    .dataframe thead th {\n",
       "        text-align: right;\n",
       "    }\n",
       "</style>\n",
       "<table border=\"1\" class=\"dataframe\">\n",
       "  <thead>\n",
       "    <tr style=\"text-align: right;\">\n",
       "      <th></th>\n",
       "      <th>index</th>\n",
       "      <th>text</th>\n",
       "      <th>label</th>\n",
       "      <th>norm</th>\n",
       "    </tr>\n",
       "  </thead>\n",
       "  <tbody>\n",
       "    <tr>\n",
       "      <th>0</th>\n",
       "      <td>201</td>\n",
       "      <td>Hurray, saving us $$$ in so many ways @potus @realDonaldTrump #LockThemUp #BuildTheWall #EndDACA #BoycottNFL #BoycottNike</td>\n",
       "      <td>1</td>\n",
       "      <td>hateful</td>\n",
       "    </tr>\n",
       "    <tr>\n",
       "      <th>1</th>\n",
       "      <td>202</td>\n",
       "      <td>Why would young fighting age men be the vast majority of the ones escaping a war &amp;amp; not those who cannot fight like women, children, and the elderly?It's because the majority of the refugees are not actually refugees they are economic migrants trying to get into Europe.... https://t.co/Ks0SHbtYqn</td>\n",
       "      <td>1</td>\n",
       "      <td>hateful</td>\n",
       "    </tr>\n",
       "    <tr>\n",
       "      <th>2</th>\n",
       "      <td>203</td>\n",
       "      <td>@KamalaHarris Illegals Dump their Kids at the border like Road Kill and Refuse to Unite! They Hope they get Amnesty, Free Education and Welfare Illegal #FamilesBelongTogether in their Country not on the Taxpayer Dime Its a SCAM #NoDACA #NoAmnesty #SendThe</td>\n",
       "      <td>1</td>\n",
       "      <td>hateful</td>\n",
       "    </tr>\n",
       "    <tr>\n",
       "      <th>3</th>\n",
       "      <td>204</td>\n",
       "      <td>NY Times: 'Nearly All White' States Pose 'an Array of Problems' for Immigrants https://t.co/ACZKLhdMV9 https://t.co/CJAlSXCzR6</td>\n",
       "      <td>0</td>\n",
       "      <td>non-hateful</td>\n",
       "    </tr>\n",
       "    <tr>\n",
       "      <th>4</th>\n",
       "      <td>205</td>\n",
       "      <td>Orban in Brussels: European leaders are ignoring the will of the people, they do not want migrants https://t.co/NeYFyqvYlX</td>\n",
       "      <td>0</td>\n",
       "      <td>non-hateful</td>\n",
       "    </tr>\n",
       "  </tbody>\n",
       "</table>\n",
       "</div>"
      ],
      "text/plain": [
       "   index  \\\n",
       "0    201   \n",
       "1    202   \n",
       "2    203   \n",
       "3    204   \n",
       "4    205   \n",
       "\n",
       "                                                                                                                                                                                                                                                                                                           text  \\\n",
       "0                                                                                                                                                                                     Hurray, saving us $$$ in so many ways @potus @realDonaldTrump #LockThemUp #BuildTheWall #EndDACA #BoycottNFL #BoycottNike   \n",
       "1  Why would young fighting age men be the vast majority of the ones escaping a war &amp; not those who cannot fight like women, children, and the elderly?It's because the majority of the refugees are not actually refugees they are economic migrants trying to get into Europe.... https://t.co/Ks0SHbtYqn   \n",
       "2                                               @KamalaHarris Illegals Dump their Kids at the border like Road Kill and Refuse to Unite! They Hope they get Amnesty, Free Education and Welfare Illegal #FamilesBelongTogether in their Country not on the Taxpayer Dime Its a SCAM #NoDACA #NoAmnesty #SendThe   \n",
       "3                                                                                                                                                                                NY Times: 'Nearly All White' States Pose 'an Array of Problems' for Immigrants https://t.co/ACZKLhdMV9 https://t.co/CJAlSXCzR6   \n",
       "4                                                                                                                                                                                    Orban in Brussels: European leaders are ignoring the will of the people, they do not want migrants https://t.co/NeYFyqvYlX   \n",
       "\n",
       "   label         norm  \n",
       "0      1      hateful  \n",
       "1      1      hateful  \n",
       "2      1      hateful  \n",
       "3      0  non-hateful  \n",
       "4      0  non-hateful  "
      ]
     },
     "metadata": {},
     "output_type": "display_data"
    }
   ],
   "source": [
    "# primeiramente vamos observar os dados\n",
    "with pd.option_context('display.max_colwidth',None):\n",
    "  display(train.head(5))#"
   ]
  },
  {
   "cell_type": "markdown",
   "metadata": {},
   "source": [
    "## pré-processamento\n",
    "\n",
    "A etapa de pré-processamento é responsável por preparar os dados para a etapa de extração de características. \n",
    "\n",
    "Nessa etapa podem ser realizadas diferentes tarefas como:  \n",
    "\n",
    "* Limpeza dos dados: remoção de menções (“i.e.,$@usuario$\"), URLs ( “$http[s]://$\"), RT símbolos, números, stop-words e espaços em branco redundantes.\n",
    "\n",
    "* Normalização dos dados: conversão do texto completo para minúsculo e normalização de unicode [link](https://www.ibm.com/docs/en/db2-for-zos/11?topic=ccsids-normalization-unicode-strings).\n",
    "\n",
    "\n",
    "Verificar a biblioteca [NLTK](https://www.nltk.org/)\n",
    "\n"
   ]
  },
  {
   "cell_type": "code",
   "execution_count": 5,
   "metadata": {},
   "outputs": [],
   "source": [
    "# !pip install nltk"
   ]
  },
  {
   "cell_type": "code",
   "execution_count": 6,
   "metadata": {},
   "outputs": [
    {
     "name": "stderr",
     "output_type": "stream",
     "text": [
      "[nltk_data] Downloading package stopwords to\n",
      "[nltk_data]     C:\\Users\\johna\\AppData\\Roaming\\nltk_data...\n",
      "[nltk_data]   Package stopwords is already up-to-date!\n"
     ]
    }
   ],
   "source": [
    "import nltk                                             # Natural Language Toolkit\n",
    "\n",
    "nltk.download('stopwords')\n",
    "\n",
    "import re                                               # biblioteca para operações com regular expression\n",
    "from nltk.corpus import stopwords                       # módulo para tratamento das stop words que vem com o NLTK\n",
    "import string                                           # para operações com string\n",
    "from unicodedata import normalize                       # para normalização de unicodes"
   ]
  },
  {
   "cell_type": "code",
   "execution_count": 7,
   "metadata": {},
   "outputs": [
    {
     "name": "stdout",
     "output_type": "stream",
     "text": [
      "{'below', 'only', 'do', \"wouldn't\", 'how', \"shouldn't\", \"haven't\", 'theirs', \"isn't\", 'same', 'is', 'having', 'we', 'to', 'o', \"couldn't\", \"you're\", \"doesn't\", 'each', 'will', 'weren', 'until', 'ain', 'out', \"wasn't\", 'where', 'couldn', 'm', 'mustn', 'won', 'just', \"won't\", 'after', 'by', 'such', 'of', 'are', \"she's\", 'up', 'more', 'with', 'whom', 'its', 'own', 'yourselves', 'because', 'the', 'who', \"it's\", 'what', 'that', \"mightn't\", 're', 'or', 'you', 'she', 'was', 'does', 'this', 'my', 'off', 'doesn', 'themselves', 'itself', 'doing', 'i', 'myself', 'be', 'during', \"hadn't\", 'he', 'wasn', 'there', 'herself', 'a', 'yourself', \"mustn't\", 'for', 'don', \"that'll\", 'y', 'most', 'again', 'ours', 'll', 'our', 'himself', 'further', 'wouldn', \"you've\", 'then', 'your', 'and', \"you'd\", 'between', 'needn', 'have', 'were', 'has', 'nor', 'isn', 'under', 'while', 'here', 'down', 'been', 'into', 'yours', 'being', 'all', 'hadn', 'which', 'above', 'if', 'didn', 'mightn', 'haven', 'them', 'should', 'on', \"aren't\", \"hasn't\", 'at', 'some', 'shouldn', 'not', 'shan', 'their', 'so', 'these', 'd', 'over', 'those', 'when', 'they', 'once', 'why', 've', 'hasn', 'both', \"needn't\", 'very', 'ma', 'against', 'too', 'me', 'ourselves', 'his', 'than', 'her', 'in', \"you'll\", 'am', 'through', 'can', 'aren', 'before', 'hers', 'an', 'no', 's', \"weren't\", 'him', 'had', 'now', 'as', 'from', 'other', \"don't\", 'it', \"shan't\", 'about', \"should've\", 't', 'did', \"didn't\", 'few', 'any', 'but'}\n",
      "Quantidade:  179\n",
      "{'para', 'do', 'tinha', 'tivéssemos', 'seríamos', 'nas', 'estivermos', 'teriam', 'aos', 'estas', 'estivéssemos', 'estava', 'éramos', 'sem', 'o', 'esta', 'aquilo', 'forem', 'estar', 'quem', 'seus', 'houverei', 'tua', 'nossas', 'tivéramos', 'ela', 'esse', 'houvéssemos', 'na', 'num', 'houveremos', 'seriam', 'fossem', 'está', 'tivemos', 'estivemos', 'formos', 'isto', 'aqueles', 'dele', 'há', 'se', 'foram', 'delas', 'houvera', 'houveriam', 'eram', 'meus', 'teríamos', 'você', 'lhe', 'serão', 'mesmo', 'teremos', 'tinham', 'das', 'dos', 'tem', 'entre', 'quando', 'é', 'estivesse', 'hajamos', 'houveria', 'houverá', 'por', 'com', 'em', 'estou', 'da', 'foi', 'fôssemos', 'hajam', 'houverem', 'já', 'tivermos', 'eu', 'estamos', 'seria', 'nossos', 'pela', 'tínhamos', 'mais', 'terá', 'essa', 'tive', 'hão', 'muito', 'estivéramos', 'terei', 'isso', 'a', 'serei', 'for', 'ou', 'haver', 'haja', 'um', 'estejam', 'tém', 'numa', 'deles', 'houveríamos', 'minhas', 'nem', 'tiveram', 'somos', 'tuas', 'fora', 'tenham', 'houvermos', 'esses', 'uma', 'como', 'tenho', 'e', 'fôramos', 'hei', 'qual', 'os', 'suas', 'houvessem', 'pelas', 'aquelas', 'ao', 'elas', 'de', 'não', 'seu', 'sou', 'tivesse', 'estão', 'são', 'houvemos', 'dela', 'meu', 'aquela', 'estavam', 'houverão', 'teu', 'esteve', 'estes', 'era', 'tenhamos', 'depois', 'estivessem', 'ele', 'até', 'vocês', 'este', 'também', 'só', 'estiver', 'teus', 'vos', 'temos', 'houve', 'sua', 'nosso', 'que', 'terão', 'aquele', 'teria', 'estejamos', 'sejam', 'me', 'esteja', 'houvesse', 'houver', 'estiveram', 'tivessem', 'tu', 'no', 'tenha', 'seja', 'essas', 'pelos', 'teve', 'nos', 'tiverem', 'nossa', 'seremos', 'lhes', 'fui', 'ser', 'as', 'estiverem', 'fosse', 'sejamos', 'estivera', 'houvéramos', 'nós', 'minha', 'às', 'te', 'tiver', 'havemos', 'fomos', 'tivera', 'estávamos', 'houveram', 'eles', 'estive', 'mas', 'pelo', 'será', 'à'}\n",
      "Quantidade:  207\n",
      "{'seríamos', 'estas', 'estoy', 'habrías', 'sean', 'tenéis', 'tuviera', 'ti', 'fuésemos', 'hubiéramos', 'los', 'esto', 'contra', 'eran', 'habréis', 'estará', 'suya', 'estuviese', 'tuviéramos', 'nuestras', 'sí', 'tiene', 'habidas', 'tuvieran', 'eras', 'haya', 'habríamos', 'he', 'tengan', 'fuisteis', 'muy', 'esa', 'estuvimos', 'fuiste', 'tuviésemos', 'tuvimos', 'tenga', 'tuviste', 'habéis', 'ni', 'tengáis', 'estuviera', 'has', 'nada', 'de', 'todos', 'estuviste', 'hubisteis', 'tuvieras', 'soy', 'tendrían', 'las', 'nuestro', 'sea', 'era', 'con', 'estada', 'hubiesen', 'tenido', 'esos', 'seáis', 'me', 'hay', 'estabais', 'hubieses', 'tu', 'estabas', 'estos', 'mías', 'otra', 'tuya', 'esas', 'también', 'tened', 'habré', 'habíamos', 'hubierais', 'fuimos', 'suyas', 'vuestro', 'éramos', 'o', 'esta', 'estar', 'tienes', 'sentido', 'eres', 'siente', 'sentid', 'fueras', 'porque', 'hubieran', 'nosotros', 'tuviese', 'habrían', 'tuvieron', 'estado', 'tienen', 'estuvisteis', 'estarían', 'ellos', 'vuestras', 'su', 'vosotras', 'otras', 'sintiendo', 'habíais', 'unos', 'él', 'estad', 'otro', 'habríais', 'hubieras', 'ante', 'estaremos', 'estamos', 'habían', 'son', 'hubiera', 'algo', 'todo', 'suyos', 'hayas', 'sus', 'vuestros', 'tenías', 'hube', 'muchos', 'cuando', 'tenemos', 'e', 'hayamos', 'estuvieran', 'fuerais', 'estáis', 'tenidos', 'habiendo', 'habría', 'estuviesen', 'tuyos', 'eso', 'habrán', 'habido', 'tuvo', 'vosotros', 'hubimos', 'estén', 'estéis', 'otros', 'sentidas', 'tuyas', 'sentida', 'hubiésemos', 'sin', 'fueran', 'no', 'mí', 'nos', 'estaréis', 'fui', 'serían', 'les', 'habidos', 'te', 'fuera', 'estaba', 'para', 'algunas', 'tuvieseis', 'tendrías', 'tus', 'nosotras', 'estados', 'en', 'tuvieses', 'fue', 'estuve', 'teniendo', 'estarías', 'se', 'estarás', 'tendrá', 'serás', 'teníamos', 'seríais', 'tenidas', 'erais', 'por', 'estuviésemos', 'una', 'un', 'fueses', 'es', 'están', 'a', 'estarán', 'fuesen', 'hubo', 'ella', 'quien', 'y', 'estadas', 'le', 'fueron', 'estuvo', 'poco', 'qué', 'hubieseis', 'os', 'habida', 'serías', 'habrás', 'tendríais', 'seréis', 'sería', 'tengamos', 'teníais', 'estuvieses', 'donde', 'estuvieron', 'seamos', 'tendré', 'que', 'tuviesen', 'estuvieras', 'antes', 'estemos', 'mi', 'estaríamos', 'estás', 'tanto', 'hasta', 'estaré', 'hayan', 'seré', 'será', 'tenía', 'estuviéramos', 'fuese', 'mis', 'habías', 'tuvisteis', 'ya', 'tuve', 'hubiese', 'está', 'tuyo', 'esté', 'tendríamos', 'yo', 'tú', 'entre', 'tenida', 'había', 'tendrán', 'al', 'hubieron', 'míos', 'hubiste', 'durante', 'estando', 'del', 'estuvierais', 'lo', 'sobre', 'tuvierais', 'ese', 'tendrás', 'estés', 'ha', 'serán', 'somos', 'uno', 'estuvieseis', 'como', 'fuéramos', 'ellas', 'suyo', 'han', 'tengas', 'más', 'estaban', 'tendremos', 'habremos', 'fueseis', 'mío', 'seas', 'este', 'mía', 'vuestra', 'hemos', 'tendría', 'sois', 'tenían', 'habrá', 'algunos', 'estaríais', 'pero', 'la', 'nuestros', 'sentidos', 'tengo', 'desde', 'nuestra', 'el', 'seremos', 'quienes', 'estaría', 'mucho', 'estábamos', 'hayáis', 'tendréis', 'cual'}\n",
      "Quantidade:  313\n"
     ]
    }
   ],
   "source": [
    "# se quiser visualizar a lista de stopwords\n",
    "stops = set(stopwords.words('english'))\n",
    "print(stops)\n",
    "print(\"Quantidade: \",len(stops))\n",
    "# os idiomas também podem ser usados \n",
    "stops = set(stopwords.words('portuguese'))\n",
    "print(stops)\n",
    "print(\"Quantidade: \",len(stops))\n",
    "stops = set(stopwords.words('spanish'))\n",
    "print(stops)\n",
    "print(\"Quantidade: \",len(stops))"
   ]
  },
  {
   "cell_type": "code",
   "execution_count": 8,
   "metadata": {},
   "outputs": [
    {
     "name": "stdout",
     "output_type": "stream",
     "text": [
      "Ç Ç\n",
      "False\n",
      "True\n"
     ]
    }
   ],
   "source": [
    "# vamos checar alguns exemplos\n",
    "# Diferentes unicodes para gerar a mesma letra\n",
    "print(\"\\u00C7\", \"\\u0043\\u0327\")\n",
    "\n",
    "print(\"Ç\" == \"Ç\")\n",
    "\n",
    "print(\"Ç\"==\"Ç\")"
   ]
  },
  {
   "cell_type": "code",
   "execution_count": 9,
   "metadata": {},
   "outputs": [],
   "source": [
    "def clear_replace(text):\n",
    "    \"\"\"\n",
    "    1) Substituição de muitos espaços em branco por uma instância\n",
    "    2) Remoção de RT, urls, menções, números\n",
    "    3) Normalização de unicode\n",
    "\n",
    "    Retorne o texto pré-processado\n",
    "    \"\"\"\n",
    "\n",
    "    # padrão muitos espaços em branco\n",
    "    space_pattern = '\\s+'\n",
    "\n",
    "    # padrão de RT\n",
    "    rt_regex = 'RT @[\\w_]+'    \n",
    "\n",
    "    # padrão para urls\n",
    "    giant_url_regex = ('http[s]?://(?:[a-zA-Z]|[0-9]|[$-_@.&+]|'\n",
    "        '[!*\\(\\),]|(?:%[0-9a-fA-F][0-9a-fA-F]))+')\n",
    "    \n",
    "    # padrão para menções\n",
    "    mention_regex = '@[\\w\\-]+'\n",
    "\n",
    "    #padrão para números\n",
    "    number_regex = '[0-9]'\n",
    "\n",
    "    # Removendo espaços extras\n",
    "    parsed_text = re.sub(space_pattern, ' ', text)\n",
    "    \n",
    "    #Removendo RT\n",
    "    parsed_text = re.sub(rt_regex, ' ', parsed_text) \n",
    "\n",
    "    # Removendo URLs    \n",
    "    parsed_text = re.sub(giant_url_regex, ' ', parsed_text)\n",
    "\n",
    "    # Removendo menções\n",
    "    parsed_text = re.sub(mention_regex, ' ', parsed_text)\n",
    "\n",
    "    # Removendo números\n",
    "    parsed_text = re.sub(number_regex, ' ', parsed_text)\n",
    "\n",
    "    # Normalização de unicode\n",
    "    parsed_text = normalize('NFKD', parsed_text).encode('ASCII', 'ignore').decode('ASCII')\n",
    "    \n",
    "    return parsed_text"
   ]
  },
  {
   "cell_type": "code",
   "execution_count": 10,
   "metadata": {},
   "outputs": [],
   "source": [
    "def to_lower(text):\n",
    "  \"\"\" Transforme o texto em minúsculo\"\"\"\n",
    "  return text.lower()"
   ]
  },
  {
   "cell_type": "code",
   "execution_count": 11,
   "metadata": {},
   "outputs": [],
   "source": [
    "def remove_stopwords(text):\n",
    "\t\"\"\" Use NLTK para remover todas as stop-words em inglês \"\"\"\n",
    "\tstop_words = set(stopwords.words('english'))  #portuguese\n",
    "\n",
    "\treturn ' '.join([word for word in text.split() if word not in stop_words])"
   ]
  },
  {
   "cell_type": "code",
   "execution_count": 12,
   "metadata": {},
   "outputs": [],
   "source": [
    "def pre_processing(tweets):\t\n",
    "\tclean_tweets = []\n",
    "\n",
    "\tfor text in tweets:\n",
    "\t\t#Limpando o texto\n",
    "\t\ttext = clear_replace(str(text))\n",
    "\t\t#Conversão do texto completo para minúsculo\n",
    "\t\ttext = to_lower(text)\n",
    "\t\t# Removendo stopwords\n",
    "\t\ttext = remove_stopwords(text)\n",
    "\t\tclean_tweets.append(text)\n",
    "\treturn clean_tweets"
   ]
  },
  {
   "cell_type": "code",
   "execution_count": 13,
   "metadata": {},
   "outputs": [
    {
     "data": {
      "text/plain": [
       "['quem te falou isso?', 'ela ama trabalhar com nlp dias por semana']"
      ]
     },
     "execution_count": 13,
     "metadata": {},
     "output_type": "execute_result"
    }
   ],
   "source": [
    "# vamos verificar um exemplo. Vou colocar em português, mas para o HatEval dataset as stopwords devem ser em inglês. \n",
    "\n",
    "exemplo_1 = \"RT @chiquinho Quem te falou       ISSO?\"\n",
    "\n",
    "exemplo_2 = \"ELA ama trabalhar com NLP 5 dias por semana https://www.nltk.org/\"\n",
    "\n",
    "tweets = [exemplo_1 , exemplo_2]\n",
    "\n",
    "pre_processing(tweets)"
   ]
  },
  {
   "cell_type": "code",
   "execution_count": 14,
   "metadata": {},
   "outputs": [
    {
     "name": "stdout",
     "output_type": "stream",
     "text": [
      "900\n",
      "300\n",
      "100\n"
     ]
    }
   ],
   "source": [
    "# Vamos avaliar apenas um subset dos conjuntos de treinamento, teste e validação com 20% dos exemplos\n",
    "train_sub, _, _,_ = train_test_split(train, train[\"label\"], train_size=0.1, stratify=train[\"label\"])\n",
    "test_sub, _, _,_ = train_test_split(test, test[\"label\"], train_size=0.1, stratify=test[\"label\"])\n",
    "val_sub, _, _,_ = train_test_split(val, val[\"label\"], train_size=0.1, stratify=val[\"label\"])\n",
    "\n",
    "print(train_sub.shape[0])\n",
    "print(test_sub.shape[0])\n",
    "print(val_sub.shape[0])"
   ]
  },
  {
   "cell_type": "code",
   "execution_count": 15,
   "metadata": {},
   "outputs": [
    {
     "data": {
      "text/plain": [
       "2521    interesting use sc experiment social issue well-known scholars - results good news humanistic perspective though: welcome culture welcome limits? uncovering preference changes time sheltering refugees\n",
       "1431                                           germany: mass migration un-assimilatable illegal alien people. pm merkel entire govt. civil war making. #stoptheinvasion #nomorerefugees #muslimban #germanyfirst\n",
       "4355                                                                                                                                                                     un says libya recovered bodies migrants\n",
       "6799                                                                                                                                           living world illusions.....no ram mandir dara removed elections .\n",
       "3461                                                                                                                                                        made laugh loud imagining immigrant song sung round.\n",
       "Name: text, dtype: object"
      ]
     },
     "metadata": {},
     "output_type": "display_data"
    }
   ],
   "source": [
    "train_sub[\"text\"] = pre_processing(train_sub[\"text\"])\n",
    "test_sub[\"text\"] = pre_processing(test_sub[\"text\"])\n",
    "val_sub[\"text\"] = pre_processing(val_sub[\"text\"])\n",
    "\n",
    "X_train, y_train = train_sub[\"text\"], train_sub[\"label\"]\n",
    "X_test, y_test = test_sub[\"text\"], test_sub[\"label\"]\n",
    "X_val, y_val = val_sub[\"text\"], val_sub[\"label\"]\n",
    "\n",
    "# primeiramente vamos observar os dados\n",
    "with pd.option_context('display.max_colwidth',None):\n",
    "  display(X_train.head(5))"
   ]
  },
  {
   "cell_type": "markdown",
   "metadata": {},
   "source": [
    "## Extração de características\n",
    "\n",
    "Como representar uma palavra? \n",
    "\n",
    "Em PLN os conjuntos de dados geralmente estão disponíveis como texto bruto para análise. Portanto, a extração de características visa transformar o texto em linguagem natural em um espaço vetorial numérico adequado como entradas do modelo. Várias técnicas de extração de características podem ser aplicadas, como técnicas de Bag-of-Words (BoW), recursos lexicais e métodos de embedding."
   ]
  },
  {
   "cell_type": "markdown",
   "metadata": {},
   "source": [
    "<!-- [Fonte](https://www.sciencedirect.com/science/article/pii/S1566253523004566?via%3Dihub) -->\n",
    "\n",
    "<a href=\"https://www.sciencedirect.com/science/article/pii/S1566253523004566?via%3Dihub\">\n",
    "    <img src=\"https://raw.githubusercontent.com/johnattandouglas/monitoria-ml/main/imagens/featureExtraction.png\" alt=\"Feature Extraction\">\n",
    "</a>\n",
    "\n",
    "<!-- https://github.com/johnattandouglas/monitoria-ml/main/imagens/FeatureExtraction.png -->"
   ]
  },
  {
   "cell_type": "markdown",
   "metadata": {},
   "source": [
    "Vamos utilizar o TF-IDF (frequency–inverse document frequency). O TF-IDF é uma medida estatística que tem o intuito de indicar a importância de uma palavra de um documento em relação a uma coleção de documentos ou em um corpus linguístico.\n",
    "\n",
    "$$TFIDF (t, d, D) = tf (t, d) \\times idf (t, D)$$\n",
    "\n",
    "tf - frequência absoluta\n",
    "\n",
    "idf - A frequência inversa do documento é uma medida de quanta informação a palavra fornece, ou seja, se é comum ou rara em todos os documentos"
   ]
  },
  {
   "cell_type": "code",
   "execution_count": 16,
   "metadata": {},
   "outputs": [],
   "source": [
    "from sklearn.feature_extraction.text import TfidfVectorizer\n",
    "\n",
    "vectorizer = TfidfVectorizer()\n",
    "\n",
    "X_train = vectorizer.fit_transform(X_train)\n",
    "X_test = vectorizer.transform(X_test)\n",
    "X_val = vectorizer.transform(X_val)"
   ]
  },
  {
   "cell_type": "code",
   "execution_count": 17,
   "metadata": {},
   "outputs": [
    {
     "name": "stdout",
     "output_type": "stream",
     "text": [
      "['_x' 'aadhar' 'aap' ... 'zerotolerance' 'zoinest' 'zone']\n",
      "Número de features: 4005\n"
     ]
    }
   ],
   "source": [
    "print(vectorizer.get_feature_names_out())\n",
    "print(\"Número de features:\", len(vectorizer.get_feature_names_out()))\n",
    "\n",
    "## com o pré-processamento: 4103\n",
    "## sem o pré-processamento: 5182"
   ]
  },
  {
   "cell_type": "markdown",
   "metadata": {},
   "source": [
    "### Vamos avaliar o modelo usando a regressão logistica..."
   ]
  },
  {
   "cell_type": "code",
   "execution_count": 18,
   "metadata": {},
   "outputs": [
    {
     "name": "stdout",
     "output_type": "stream",
     "text": [
      "Melhor parâmetro: {'max_iter': 100, 'penalty': None, 'solver': 'lbfgs'}\n",
      "              precision    recall  f1-score   support\n",
      "\n",
      "           0       0.66      0.22      0.33       174\n",
      "           1       0.44      0.84      0.58       126\n",
      "\n",
      "    accuracy                           0.48       300\n",
      "   macro avg       0.55      0.53      0.45       300\n",
      "weighted avg       0.56      0.48      0.43       300\n",
      "\n"
     ]
    }
   ],
   "source": [
    "from sklearn.linear_model import LogisticRegression\n",
    "from sklearn.model_selection import GridSearchCV\n",
    "\n",
    "model = LogisticRegression(random_state=42)\n",
    "\n",
    "# Configuração do GridSearchCV\n",
    "param_grid = {\n",
    "    'solver': ['lbfgs', 'liblinear', 'saga'],\n",
    "    'penalty': ['l1', 'l2', None],  # 'l1' só é suportado por 'liblinear' e 'saga'\n",
    "    'max_iter': [100, 200, 300]\n",
    "}\n",
    "\n",
    "# Inicializa o GridSearchCV\n",
    "grid = GridSearchCV(estimator=model,             \n",
    "                    param_grid=param_grid,     \n",
    "                    scoring='accuracy',          # métrica de avaliação\n",
    "                    cv=5)                        # cross-validation\n",
    "\n",
    "# Treinamento do GridSearchCV\n",
    "grid.fit(X_train, y_train)\n",
    "\n",
    "# Predição com o melhor modelo\n",
    "y_pred = grid.predict(X_test)\n",
    "\n",
    "# Exibe os melhores parâmetros\n",
    "print(\"Melhor parâmetro:\", grid.best_params_)\n",
    "\n",
    "# Treinando o modelo final com os melhores parâmetros\n",
    "best_model = grid.best_estimator_\n",
    "best_model.fit(X_train, y_train)\n",
    "\n",
    "# Predição final\n",
    "y_pred = best_model.predict(X_test)\n",
    "\n",
    "# Resultados do classificador\n",
    "print(classification_report(y_test, y_pred))"
   ]
  },
  {
   "cell_type": "markdown",
   "metadata": {},
   "source": [
    "### E se usarmos outras máquinas?"
   ]
  },
  {
   "cell_type": "code",
   "execution_count": 19,
   "metadata": {},
   "outputs": [
    {
     "name": "stdout",
     "output_type": "stream",
     "text": [
      "\n",
      "Treinando e avaliando o modelo: SVC\n",
      "Melhor parâmetro: {'C': 1, 'gamma': 'scale', 'kernel': 'linear'}\n",
      "              precision    recall  f1-score   support\n",
      "\n",
      "           0       0.68      0.28      0.39       174\n",
      "           1       0.45      0.82      0.58       126\n",
      "\n",
      "    accuracy                           0.50       300\n",
      "   macro avg       0.56      0.55      0.49       300\n",
      "weighted avg       0.58      0.50      0.47       300\n",
      "\n",
      "\n",
      "Treinando e avaliando o modelo: DecisionTree\n",
      "Melhor parâmetro: {'criterion': 'gini', 'max_depth': 10, 'min_samples_split': 20}\n",
      "              precision    recall  f1-score   support\n",
      "\n",
      "           0       0.51      0.29      0.37       174\n",
      "           1       0.39      0.62      0.48       126\n",
      "\n",
      "    accuracy                           0.43       300\n",
      "   macro avg       0.45      0.45      0.42       300\n",
      "weighted avg       0.46      0.43      0.41       300\n",
      "\n"
     ]
    }
   ],
   "source": [
    "from sklearn.svm import SVC\n",
    "from sklearn.tree import DecisionTreeClassifier\n",
    "from sklearn.model_selection import GridSearchCV\n",
    "from sklearn.metrics import classification_report\n",
    "\n",
    "# Modelos a serem comparados\n",
    "models = {\n",
    "    'SVC': SVC(random_state=42),\n",
    "    'DecisionTree': DecisionTreeClassifier(random_state=42)\n",
    "}\n",
    "\n",
    "# Parâmetros para cada modelo\n",
    "param_grids = {\n",
    "    'SVC': {\n",
    "        'C': [0.1, 1, 10, 100],               # Parâmetro de regularização\n",
    "        'kernel': ['linear', 'rbf', 'poly'],  # Tipos de kernel\n",
    "        'gamma': ['scale', 'auto']\n",
    "    },\n",
    "    'DecisionTree': {\n",
    "        'criterion': ['gini', 'entropy'],  # Critérios de divisão\n",
    "        'max_depth': [None, 10, 20, 30],   # Profundidade máxima\n",
    "        'min_samples_split': [2, 10, 20]   # Mínimo de amostras para dividir\n",
    "    }\n",
    "}\n",
    "\n",
    "# Loop para treinar e avaliar cada modelo com GridSearchCV\n",
    "for model_name, model in models.items():\n",
    "    print(f\"\\nTreinando e avaliando o modelo: {model_name}\")\n",
    "    \n",
    "    grid = GridSearchCV(estimator=model, \n",
    "                        param_grid=param_grids[model_name], \n",
    "                        scoring='accuracy', \n",
    "                        cv=5)\n",
    "    \n",
    "    grid.fit(X_train, y_train)\n",
    "    \n",
    "    # Predição com o melhor modelo\n",
    "    y_pred = grid.predict(X_test)\n",
    "    \n",
    "    # Exibe os melhores parâmetros\n",
    "    print(\"Melhor parâmetro:\", grid.best_params_)\n",
    "    \n",
    "    # Resultados do classificador\n",
    "    print(classification_report(y_test, y_pred))"
   ]
  }
 ],
 "metadata": {
  "kernelspec": {
   "display_name": "Python 3",
   "language": "python",
   "name": "python3"
  },
  "language_info": {
   "codemirror_mode": {
    "name": "ipython",
    "version": 3
   },
   "file_extension": ".py",
   "mimetype": "text/x-python",
   "name": "python",
   "nbconvert_exporter": "python",
   "pygments_lexer": "ipython3",
   "version": "3.11.9"
  },
  "orig_nbformat": 4
 },
 "nbformat": 4,
 "nbformat_minor": 2
}
