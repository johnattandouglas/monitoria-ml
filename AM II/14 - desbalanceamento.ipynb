{
 "cells": [
  {
   "cell_type": "markdown",
   "metadata": {},
   "source": [
    "# Desbalanceamento\n",
    "\n",
    "***"
   ]
  },
  {
   "cell_type": "markdown",
   "metadata": {},
   "source": [
    "<img src=\"../imagens/desbalaceamento.jpg\" alt=\"Meme\" width=\"400\" />"
   ]
  },
  {
   "cell_type": "code",
   "execution_count": 1,
   "metadata": {},
   "outputs": [],
   "source": [
    "import pandas as pd\n",
    "import numpy as np\n",
    "import matplotlib.pyplot as plt\n",
    "import seaborn as sns\n",
    "\n",
    "# Classes do modelo\n",
    "from sklearn.linear_model import LogisticRegression\n",
    "\n",
    "# Funções de avaliação dos modelos\n",
    "from sklearn.metrics import classification_report\n",
    "from sklearn.model_selection import train_test_split, GridSearchCV, StratifiedKFold\n",
    "\n",
    "\n",
    "import warnings\n",
    "warnings.filterwarnings('ignore')"
   ]
  },
  {
   "cell_type": "markdown",
   "metadata": {},
   "source": [
    "## Análise do conjunto de dados\n",
    "\n",
    "Abalone -  O Abalone é um molusco gastrópode, herbívoro, que se alimenta de algas marinhas durante aproximadamente 48 meses.\n",
    "\n",
    "Preveja a idade do abalone a partir de medições físicas. A idade do abalone é determinada cortando a concha através do cone e contando o número de anéis ao microscópio — uma tarefa tediosa e demorada. Outras medições, que são mais fáceis de obter, são usadas para prever a idade.\n",
    "\n",
    "https://archive.ics.uci.edu/dataset/1/abalone\n",
    "\n"
   ]
  },
  {
   "cell_type": "markdown",
   "metadata": {},
   "source": [
    "<img src=\"https://encrypted-tbn2.gstatic.com/images?q=tbn:ANd9GcRHtXnpfcmMI86SJA49oJ7AvbstTRqKZM_3puNbPoG19GjpYp6O\"\n",
    "alt=\"Abalone\"\n",
    "width=\"400\" />"
   ]
  },
  {
   "cell_type": "code",
   "execution_count": 2,
   "metadata": {},
   "outputs": [],
   "source": [
    "df = pd.read_csv(\"https://raw.githubusercontent.com/johnattandouglas/monitoria-ml/main/Datasets/abalone.csv\")"
   ]
  },
  {
   "cell_type": "markdown",
   "metadata": {},
   "source": [
    "### Name / Data Type / Measurement Unit / Description\n",
    "Rings / integer / -- / +1.5 gives the age in years (TARGET)\n",
    "\n",
    "Sex / nominal / -- / M, F, and I (infant)\n",
    "\n",
    "Length / continuous / mm / Longest shell measurement\n",
    "\n",
    "Diameter\t/ continuous / mm / perpendicular to length\n",
    "\n",
    "Height / continuous / mm / with meat in shell\n",
    "\n",
    "Whole weight / continuous / grams / whole abalone\n",
    "\n",
    "Shucked weight / continuous\t / grams / weight of meat\n",
    "\n",
    "Viscera weight / continuous / grams / gut weight (after bleeding)\n",
    "\n",
    "Shell weight / continuous / grams / after being dried"
   ]
  },
  {
   "cell_type": "code",
   "execution_count": 3,
   "metadata": {},
   "outputs": [
    {
     "data": {
      "text/html": [
       "<div>\n",
       "<style scoped>\n",
       "    .dataframe tbody tr th:only-of-type {\n",
       "        vertical-align: middle;\n",
       "    }\n",
       "\n",
       "    .dataframe tbody tr th {\n",
       "        vertical-align: top;\n",
       "    }\n",
       "\n",
       "    .dataframe thead th {\n",
       "        text-align: right;\n",
       "    }\n",
       "</style>\n",
       "<table border=\"1\" class=\"dataframe\">\n",
       "  <thead>\n",
       "    <tr style=\"text-align: right;\">\n",
       "      <th></th>\n",
       "      <th>Rings</th>\n",
       "      <th>Sex</th>\n",
       "      <th>Length</th>\n",
       "      <th>Diameter</th>\n",
       "      <th>Height</th>\n",
       "      <th>WholeWeight</th>\n",
       "      <th>ShuckedWeight</th>\n",
       "      <th>VisceraWeight</th>\n",
       "      <th>ShellWeight</th>\n",
       "    </tr>\n",
       "  </thead>\n",
       "  <tbody>\n",
       "    <tr>\n",
       "      <th>0</th>\n",
       "      <td>15</td>\n",
       "      <td>0</td>\n",
       "      <td>0.455</td>\n",
       "      <td>0.365</td>\n",
       "      <td>0.095</td>\n",
       "      <td>0.5140</td>\n",
       "      <td>0.2245</td>\n",
       "      <td>0.1010</td>\n",
       "      <td>0.150</td>\n",
       "    </tr>\n",
       "    <tr>\n",
       "      <th>1</th>\n",
       "      <td>7</td>\n",
       "      <td>0</td>\n",
       "      <td>0.350</td>\n",
       "      <td>0.265</td>\n",
       "      <td>0.090</td>\n",
       "      <td>0.2255</td>\n",
       "      <td>0.0995</td>\n",
       "      <td>0.0485</td>\n",
       "      <td>0.070</td>\n",
       "    </tr>\n",
       "    <tr>\n",
       "      <th>2</th>\n",
       "      <td>9</td>\n",
       "      <td>1</td>\n",
       "      <td>0.530</td>\n",
       "      <td>0.420</td>\n",
       "      <td>0.135</td>\n",
       "      <td>0.6770</td>\n",
       "      <td>0.2565</td>\n",
       "      <td>0.1415</td>\n",
       "      <td>0.210</td>\n",
       "    </tr>\n",
       "    <tr>\n",
       "      <th>3</th>\n",
       "      <td>10</td>\n",
       "      <td>0</td>\n",
       "      <td>0.440</td>\n",
       "      <td>0.365</td>\n",
       "      <td>0.125</td>\n",
       "      <td>0.5160</td>\n",
       "      <td>0.2155</td>\n",
       "      <td>0.1140</td>\n",
       "      <td>0.155</td>\n",
       "    </tr>\n",
       "    <tr>\n",
       "      <th>4</th>\n",
       "      <td>7</td>\n",
       "      <td>2</td>\n",
       "      <td>0.330</td>\n",
       "      <td>0.255</td>\n",
       "      <td>0.080</td>\n",
       "      <td>0.2050</td>\n",
       "      <td>0.0895</td>\n",
       "      <td>0.0395</td>\n",
       "      <td>0.055</td>\n",
       "    </tr>\n",
       "  </tbody>\n",
       "</table>\n",
       "</div>"
      ],
      "text/plain": [
       "   Rings  Sex  Length  Diameter  Height  WholeWeight  ShuckedWeight  \\\n",
       "0     15    0   0.455     0.365   0.095       0.5140         0.2245   \n",
       "1      7    0   0.350     0.265   0.090       0.2255         0.0995   \n",
       "2      9    1   0.530     0.420   0.135       0.6770         0.2565   \n",
       "3     10    0   0.440     0.365   0.125       0.5160         0.2155   \n",
       "4      7    2   0.330     0.255   0.080       0.2050         0.0895   \n",
       "\n",
       "   VisceraWeight  ShellWeight  \n",
       "0         0.1010        0.150  \n",
       "1         0.0485        0.070  \n",
       "2         0.1415        0.210  \n",
       "3         0.1140        0.155  \n",
       "4         0.0395        0.055  "
      ]
     },
     "execution_count": 3,
     "metadata": {},
     "output_type": "execute_result"
    }
   ],
   "source": [
    "df.head()"
   ]
  },
  {
   "cell_type": "markdown",
   "metadata": {},
   "source": [
    "### Visualizando a distribuição dos dados por classe"
   ]
  },
  {
   "cell_type": "code",
   "execution_count": 4,
   "metadata": {},
   "outputs": [
    {
     "data": {
      "image/png": "[encoded data removed]",
      "text/plain": [
       "<Figure size 640x480 with 1 Axes>"
      ]
     },
     "metadata": {},
     "output_type": "display_data"
    }
   ],
   "source": [
    "sns.countplot(x=\"Rings\", data=df)\n",
    "plt.show()"
   ]
  },
  {
   "cell_type": "markdown",
   "metadata": {},
   "source": [
    "### Separando o conjunto de dados"
   ]
  },
  {
   "cell_type": "code",
   "execution_count": 5,
   "metadata": {},
   "outputs": [
    {
     "name": "stdout",
     "output_type": "stream",
     "text": [
      "(2378, 9)\n",
      "Rings\n",
      "9     689\n",
      "10    634\n",
      "8     568\n",
      "11    487\n",
      "Name: count, dtype: int64\n"
     ]
    },
    {
     "data": {
      "text/plain": [
       "<Axes: xlabel='Rings', ylabel='Rings'>"
      ]
     },
     "execution_count": 5,
     "metadata": {},
     "output_type": "execute_result"
    },
    {
     "data": {
      "image/png": "[encoded data removed]",
      "text/plain": [
       "<Figure size 640x480 with 1 Axes>"
      ]
     },
     "metadata": {},
     "output_type": "display_data"
    }
   ],
   "source": [
    "dfFiltrado =  df.loc[(df[\"Rings\"]>7) & (df[\"Rings\"]<12)]\n",
    "\n",
    "print(dfFiltrado.shape)\n",
    "print(dfFiltrado[\"Rings\"].value_counts())\n",
    "\n",
    "#percentual \n",
    "sns.barplot(x=\"Rings\", y=\"Rings\",  data=dfFiltrado,  estimator=lambda x: len(x) / len(dfFiltrado) * 100)"
   ]
  },
  {
   "cell_type": "code",
   "execution_count": 6,
   "metadata": {},
   "outputs": [],
   "source": [
    "X = dfFiltrado.iloc[:,1:8]\n",
    "y = dfFiltrado.iloc[:,0]\n",
    "\n",
    "#Separando o conjunto de dados em treinamento e teste\n",
    "X_train, X_test, y_train, y_test = train_test_split(X, y, test_size=0.3, stratify=y)"
   ]
  },
  {
   "cell_type": "markdown",
   "metadata": {},
   "source": [
    "### Treinando o modelo"
   ]
  },
  {
   "cell_type": "code",
   "execution_count": 7,
   "metadata": {},
   "outputs": [
    {
     "name": "stdout",
     "output_type": "stream",
     "text": [
      "              precision    recall  f1-score   support\n",
      "\n",
      "           8       0.42      0.47      0.45       171\n",
      "           9       0.35      0.41      0.38       207\n",
      "          10       0.32      0.32      0.32       190\n",
      "          11       0.41      0.27      0.32       146\n",
      "\n",
      "    accuracy                           0.37       714\n",
      "   macro avg       0.38      0.37      0.37       714\n",
      "weighted avg       0.37      0.37      0.37       714\n",
      "\n"
     ]
    }
   ],
   "source": [
    "model = LogisticRegression()\n",
    "\n",
    "#treinando o modelo\n",
    "model.fit(X_train, y_train)\n",
    "\n",
    "#predição\n",
    "y_pred = model.predict(X_test)\n",
    "\n",
    "#Resultados do classificador\n",
    "print(classification_report(y_test, y_pred))"
   ]
  },
  {
   "cell_type": "code",
   "execution_count": 8,
   "metadata": {},
   "outputs": [
    {
     "name": "stdout",
     "output_type": "stream",
     "text": [
      "              precision    recall  f1-score   support\n",
      "\n",
      "           8       0.51      0.43      0.47       171\n",
      "           9       0.35      0.56      0.43       207\n",
      "          10       0.32      0.21      0.25       190\n",
      "          11       0.36      0.29      0.32       146\n",
      "\n",
      "    accuracy                           0.38       714\n",
      "   macro avg       0.39      0.37      0.37       714\n",
      "weighted avg       0.38      0.38      0.37       714\n",
      "\n"
     ]
    }
   ],
   "source": [
    "from sklearn.neural_network import MLPClassifier\n",
    "\n",
    "# Definindo o modelo MLP\n",
    "model = MLPClassifier(hidden_layer_sizes=(100), activation='relu', random_state=20)\n",
    "\n",
    "# Treinando o modelo\n",
    "model.fit(X_train, y_train)\n",
    "\n",
    "# Predição\n",
    "y_pred = model.predict(X_test)\n",
    "\n",
    "# Resultados do classificador\n",
    "print(classification_report(y_test, y_pred))"
   ]
  },
  {
   "cell_type": "markdown",
   "metadata": {},
   "source": [
    "----------------------------------------------------------------\n",
    "## SMOTE"
   ]
  },
  {
   "cell_type": "markdown",
   "metadata": {},
   "source": [
    "Vamos usar um pacote que lida com problemas de desbalanceamento de classes em conjuntos de dados, oferecendo técnicas como:\n",
    "\n",
    "- SMOTE (oversampling): que gera novas amostras sintéticas da classe **minoritária**, em vez de simplesmente duplicar as amostras existentes.\n",
    "- Undersampling: reduz o número de amostras da classe **majoritária** para balancear o dataset.\n",
    "\n",
    "Lembre de instalar o `imblearn`:"
   ]
  },
  {
   "cell_type": "code",
   "execution_count": 9,
   "metadata": {},
   "outputs": [],
   "source": [
    "# !pip install imblearn"
   ]
  },
  {
   "cell_type": "code",
   "execution_count": 10,
   "metadata": {},
   "outputs": [],
   "source": [
    "from imblearn.over_sampling import SMOTE"
   ]
  },
  {
   "cell_type": "markdown",
   "metadata": {},
   "source": [
    "### Aplicando o SMOTE"
   ]
  },
  {
   "cell_type": "code",
   "execution_count": 11,
   "metadata": {},
   "outputs": [],
   "source": [
    "smt = SMOTE(random_state=20, sampling_strategy='auto')\n",
    "X_smt, y_smt = smt.fit_resample(X_train, y_train)"
   ]
  },
  {
   "cell_type": "markdown",
   "metadata": {},
   "source": [
    "Criando um novo dataset com as amostras balanceadas..."
   ]
  },
  {
   "cell_type": "code",
   "execution_count": 12,
   "metadata": {},
   "outputs": [
    {
     "name": "stdout",
     "output_type": "stream",
     "text": [
      "(1074, 8)\n",
      "Rings\n",
      "11    309\n",
      "8     265\n",
      "10    259\n",
      "9     241\n",
      "Name: count, dtype: int64\n"
     ]
    },
    {
     "data": {
      "text/plain": [
       "<Axes: xlabel='Rings', ylabel='Rings'>"
      ]
     },
     "execution_count": 12,
     "metadata": {},
     "output_type": "execute_result"
    },
    {
     "data": {
      "image/png": "[encoded data removed]",
      "text/plain": [
       "<Figure size 640x480 with 1 Axes>"
      ]
     },
     "metadata": {},
     "output_type": "display_data"
    }
   ],
   "source": [
    "df_SMOTE = pd.DataFrame(X_smt, columns=X_train.columns)\n",
    "df_SMOTE['Rings'] = y_smt\n",
    "\n",
    "df_SMOTE_Filtrado = df_SMOTE.loc[(df[\"Rings\"]>7) & (df[\"Rings\"]<12)]\n",
    "\n",
    "print(df_SMOTE_Filtrado.shape)\n",
    "print(df_SMOTE_Filtrado[\"Rings\"].value_counts())\n",
    "\n",
    "#percentual \n",
    "sns.barplot(x=\"Rings\", y=\"Rings\",  data=df_SMOTE_Filtrado,  estimator=lambda x: len(x) / len(df_SMOTE_Filtrado) * 100)"
   ]
  },
  {
   "cell_type": "markdown",
   "metadata": {},
   "source": [
    "### Separando o conjunto de dados"
   ]
  },
  {
   "cell_type": "code",
   "execution_count": 13,
   "metadata": {},
   "outputs": [],
   "source": [
    "X = df_SMOTE_Filtrado.iloc[:,1:8]\n",
    "y = df_SMOTE_Filtrado.iloc[:,0]\n",
    "\n",
    "#Separando o conjunto de dados em treinamento e teste\n",
    "X_train, X_test, y_train, y_test = train_test_split(X, y, test_size=0.3, stratify=y)"
   ]
  },
  {
   "cell_type": "markdown",
   "metadata": {},
   "source": [
    "### Treinando o modelo"
   ]
  },
  {
   "cell_type": "code",
   "execution_count": 14,
   "metadata": {},
   "outputs": [
    {
     "name": "stdout",
     "output_type": "stream",
     "text": [
      "              precision    recall  f1-score   support\n",
      "\n",
      "           0       0.47      0.71      0.57       131\n",
      "           1       0.50      0.02      0.04       107\n",
      "           2       0.48      0.68      0.56        85\n",
      "\n",
      "    accuracy                           0.47       323\n",
      "   macro avg       0.48      0.47      0.39       323\n",
      "weighted avg       0.48      0.47      0.39       323\n",
      "\n"
     ]
    }
   ],
   "source": [
    "model = LogisticRegression(random_state=20)\n",
    "\n",
    "#treinando o modelo\n",
    "model.fit(X_train, y_train)\n",
    "\n",
    "#predição\n",
    "y_pred = model.predict(X_test)\n",
    "\n",
    "#Resultados do classificador\n",
    "print(classification_report(y_test, y_pred))"
   ]
  },
  {
   "cell_type": "code",
   "execution_count": 15,
   "metadata": {},
   "outputs": [
    {
     "name": "stdout",
     "output_type": "stream",
     "text": [
      "              precision    recall  f1-score   support\n",
      "\n",
      "           0       0.48      0.73      0.58       131\n",
      "           1       0.00      0.00      0.00       107\n",
      "           2       0.48      0.71      0.57        85\n",
      "\n",
      "    accuracy                           0.48       323\n",
      "   macro avg       0.32      0.48      0.38       323\n",
      "weighted avg       0.32      0.48      0.38       323\n",
      "\n"
     ]
    }
   ],
   "source": [
    "# Definindo o modelo MLP\n",
    "model = MLPClassifier(hidden_layer_sizes=(100), activation='relu', random_state=20)\n",
    "\n",
    "#treinando o modelo\n",
    "model.fit(X_train, y_train)\n",
    "\n",
    "# Predição\n",
    "y_pred = model.predict(X_test)\n",
    "\n",
    "# Resultados do classificador\n",
    "print(classification_report(y_test, y_pred))"
   ]
  }
 ],
 "metadata": {
  "kernelspec": {
   "display_name": "Python 3",
   "language": "python",
   "name": "python3"
  },
  "language_info": {
   "codemirror_mode": {
    "name": "ipython",
    "version": 3
   },
   "file_extension": ".py",
   "mimetype": "text/x-python",
   "name": "python",
   "nbconvert_exporter": "python",
   "pygments_lexer": "ipython3",
   "version": "3.11.9"
  },
  "orig_nbformat": 4
 },
 "nbformat": 4,
 "nbformat_minor": 2
}
