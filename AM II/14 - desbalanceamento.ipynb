{
 "cells": [
  {
   "cell_type": "markdown",
   "metadata": {},
   "source": [
    "# Desbalanceamento\n",
    "\n",
    "***"
   ]
  },
  {
   "cell_type": "markdown",
   "metadata": {},
   "source": [
    "<img src=\"../imagens/desbalaceamento.jpg\" alt=\"Meme\" width=\"400\" />"
   ]
  },
  {
   "cell_type": "code",
   "execution_count": 168,
   "metadata": {},
   "outputs": [],
   "source": [
    "import pandas as pd\n",
    "import numpy as np\n",
    "import matplotlib.pyplot as plt\n",
    "import seaborn as sns\n",
    "\n",
    "# Classes do modelo\n",
    "from sklearn.linear_model import LogisticRegression\n",
    "\n",
    "# Funções de avaliação dos modelos\n",
    "from sklearn.metrics import classification_report\n",
    "from sklearn.model_selection import train_test_split, GridSearchCV, StratifiedKFold\n",
    "\n",
    "\n",
    "import warnings\n",
    "warnings.filterwarnings('ignore')"
   ]
  },
  {
   "cell_type": "markdown",
   "metadata": {},
   "source": [
    "## Análise do conjunto de dados\n",
    "\n",
    "Abalone -  O Abalone é um molusco gastrópode, herbívoro, que se alimenta de algas marinhas durante aproximadamente 48 meses.\n",
    "\n",
    "Preveja a idade do abalone a partir de medições físicas. A idade do abalone é determinada cortando a concha através do cone e contando o número de anéis ao microscópio — uma tarefa tediosa e demorada. Outras medições, que são mais fáceis de obter, são usadas para prever a idade.\n",
    "\n",
    "https://archive.ics.uci.edu/dataset/1/abalone\n",
    "\n"
   ]
  },
  {
   "cell_type": "markdown",
   "metadata": {},
   "source": [
    "<img src=\"https://encrypted-tbn2.gstatic.com/images?q=tbn:ANd9GcRHtXnpfcmMI86SJA49oJ7AvbstTRqKZM_3puNbPoG19GjpYp6O\"\n",
    "alt=\"Abalone\"\n",
    "width=\"400\" />"
   ]
  },
  {
   "cell_type": "code",
   "execution_count": 169,
   "metadata": {},
   "outputs": [],
   "source": [
    "df = pd.read_csv(\"https://raw.githubusercontent.com/johnattandouglas/monitoria-ml/main/Datasets/abalone.csv\")"
   ]
  },
  {
   "cell_type": "markdown",
   "metadata": {},
   "source": [
    "### Name / Data Type / Measurement Unit / Description\n",
    "Rings / integer / -- / +1.5 gives the age in years (TARGET)\n",
    "\n",
    "Sex / nominal / -- / M, F, and I (infant)\n",
    "\n",
    "Length / continuous / mm / Longest shell measurement\n",
    "\n",
    "Diameter\t/ continuous / mm / perpendicular to length\n",
    "\n",
    "Height / continuous / mm / with meat in shell\n",
    "\n",
    "Whole weight / continuous / grams / whole abalone\n",
    "\n",
    "Shucked weight / continuous\t / grams / weight of meat\n",
    "\n",
    "Viscera weight / continuous / grams / gut weight (after bleeding)\n",
    "\n",
    "Shell weight / continuous / grams / after being dried"
   ]
  },
  {
   "cell_type": "code",
   "execution_count": 170,
   "metadata": {},
   "outputs": [
    {
     "data": {
      "text/html": [
       "<div>\n",
       "<style scoped>\n",
       "    .dataframe tbody tr th:only-of-type {\n",
       "        vertical-align: middle;\n",
       "    }\n",
       "\n",
       "    .dataframe tbody tr th {\n",
       "        vertical-align: top;\n",
       "    }\n",
       "\n",
       "    .dataframe thead th {\n",
       "        text-align: right;\n",
       "    }\n",
       "</style>\n",
       "<table border=\"1\" class=\"dataframe\">\n",
       "  <thead>\n",
       "    <tr style=\"text-align: right;\">\n",
       "      <th></th>\n",
       "      <th>Rings</th>\n",
       "      <th>Sex</th>\n",
       "      <th>Length</th>\n",
       "      <th>Diameter</th>\n",
       "      <th>Height</th>\n",
       "      <th>WholeWeight</th>\n",
       "      <th>ShuckedWeight</th>\n",
       "      <th>VisceraWeight</th>\n",
       "      <th>ShellWeight</th>\n",
       "    </tr>\n",
       "  </thead>\n",
       "  <tbody>\n",
       "    <tr>\n",
       "      <th>0</th>\n",
       "      <td>15</td>\n",
       "      <td>0</td>\n",
       "      <td>0.455</td>\n",
       "      <td>0.365</td>\n",
       "      <td>0.095</td>\n",
       "      <td>0.5140</td>\n",
       "      <td>0.2245</td>\n",
       "      <td>0.1010</td>\n",
       "      <td>0.150</td>\n",
       "    </tr>\n",
       "    <tr>\n",
       "      <th>1</th>\n",
       "      <td>7</td>\n",
       "      <td>0</td>\n",
       "      <td>0.350</td>\n",
       "      <td>0.265</td>\n",
       "      <td>0.090</td>\n",
       "      <td>0.2255</td>\n",
       "      <td>0.0995</td>\n",
       "      <td>0.0485</td>\n",
       "      <td>0.070</td>\n",
       "    </tr>\n",
       "    <tr>\n",
       "      <th>2</th>\n",
       "      <td>9</td>\n",
       "      <td>1</td>\n",
       "      <td>0.530</td>\n",
       "      <td>0.420</td>\n",
       "      <td>0.135</td>\n",
       "      <td>0.6770</td>\n",
       "      <td>0.2565</td>\n",
       "      <td>0.1415</td>\n",
       "      <td>0.210</td>\n",
       "    </tr>\n",
       "    <tr>\n",
       "      <th>3</th>\n",
       "      <td>10</td>\n",
       "      <td>0</td>\n",
       "      <td>0.440</td>\n",
       "      <td>0.365</td>\n",
       "      <td>0.125</td>\n",
       "      <td>0.5160</td>\n",
       "      <td>0.2155</td>\n",
       "      <td>0.1140</td>\n",
       "      <td>0.155</td>\n",
       "    </tr>\n",
       "    <tr>\n",
       "      <th>4</th>\n",
       "      <td>7</td>\n",
       "      <td>2</td>\n",
       "      <td>0.330</td>\n",
       "      <td>0.255</td>\n",
       "      <td>0.080</td>\n",
       "      <td>0.2050</td>\n",
       "      <td>0.0895</td>\n",
       "      <td>0.0395</td>\n",
       "      <td>0.055</td>\n",
       "    </tr>\n",
       "  </tbody>\n",
       "</table>\n",
       "</div>"
      ],
      "text/plain": [
       "   Rings  Sex  Length  Diameter  Height  WholeWeight  ShuckedWeight  \\\n",
       "0     15    0   0.455     0.365   0.095       0.5140         0.2245   \n",
       "1      7    0   0.350     0.265   0.090       0.2255         0.0995   \n",
       "2      9    1   0.530     0.420   0.135       0.6770         0.2565   \n",
       "3     10    0   0.440     0.365   0.125       0.5160         0.2155   \n",
       "4      7    2   0.330     0.255   0.080       0.2050         0.0895   \n",
       "\n",
       "   VisceraWeight  ShellWeight  \n",
       "0         0.1010        0.150  \n",
       "1         0.0485        0.070  \n",
       "2         0.1415        0.210  \n",
       "3         0.1140        0.155  \n",
       "4         0.0395        0.055  "
      ]
     },
     "execution_count": 170,
     "metadata": {},
     "output_type": "execute_result"
    }
   ],
   "source": [
    "df.head()"
   ]
  },
  {
   "cell_type": "markdown",
   "metadata": {},
   "source": [
    "### Visualizando a distribuição dos dados por classe"
   ]
  },
  {
   "cell_type": "code",
   "execution_count": 171,
   "metadata": {},
   "outputs": [
    {
     "data": {
      "image/png": "[encoded data removed]",
      "text/plain": [
       "<Figure size 640x480 with 1 Axes>"
      ]
     },
     "metadata": {},
     "output_type": "display_data"
    }
   ],
   "source": [
    "sns.countplot(x=\"Rings\", data=df)\n",
    "plt.show()"
   ]
  },
  {
   "cell_type": "code",
   "execution_count": 172,
   "metadata": {},
   "outputs": [],
   "source": [
    "var_min = 5\n",
    "var_max = 20"
   ]
  },
  {
   "cell_type": "markdown",
   "metadata": {},
   "source": [
    "### Separando o conjunto de dados"
   ]
  },
  {
   "cell_type": "code",
   "execution_count": 173,
   "metadata": {},
   "outputs": [
    {
     "name": "stdout",
     "output_type": "stream",
     "text": [
      "(4067, 9)\n"
     ]
    },
    {
     "data": {
      "text/plain": [
       "<Axes: xlabel='Rings', ylabel='Rings'>"
      ]
     },
     "execution_count": 173,
     "metadata": {},
     "output_type": "execute_result"
    },
    {
     "data": {
      "image/png": "[encoded data removed]",
      "text/plain": [
       "<Figure size 640x480 with 1 Axes>"
      ]
     },
     "metadata": {},
     "output_type": "display_data"
    }
   ],
   "source": [
    "dfFiltrado =  df.loc[(df[\"Rings\"]>=var_min) & (df[\"Rings\"]<=var_max)]\n",
    "\n",
    "print(dfFiltrado.shape)\n",
    "\n",
    "#percentual \n",
    "sns.barplot(x=\"Rings\", y=\"Rings\",  data=dfFiltrado,  estimator=lambda x: len(x) / len(dfFiltrado) * 100)"
   ]
  },
  {
   "cell_type": "code",
   "execution_count": 174,
   "metadata": {},
   "outputs": [
    {
     "data": {
      "text/html": [
       "<div>\n",
       "<style scoped>\n",
       "    .dataframe tbody tr th:only-of-type {\n",
       "        vertical-align: middle;\n",
       "    }\n",
       "\n",
       "    .dataframe tbody tr th {\n",
       "        vertical-align: top;\n",
       "    }\n",
       "\n",
       "    .dataframe thead th {\n",
       "        text-align: right;\n",
       "    }\n",
       "</style>\n",
       "<table border=\"1\" class=\"dataframe\">\n",
       "  <thead>\n",
       "    <tr style=\"text-align: right;\">\n",
       "      <th></th>\n",
       "      <th>Rings</th>\n",
       "      <th>Sex</th>\n",
       "      <th>Length</th>\n",
       "      <th>Diameter</th>\n",
       "      <th>Height</th>\n",
       "      <th>WholeWeight</th>\n",
       "      <th>ShuckedWeight</th>\n",
       "      <th>VisceraWeight</th>\n",
       "      <th>ShellWeight</th>\n",
       "    </tr>\n",
       "  </thead>\n",
       "  <tbody>\n",
       "    <tr>\n",
       "      <th>count</th>\n",
       "      <td>4067.000000</td>\n",
       "      <td>4067.000000</td>\n",
       "      <td>4067.000000</td>\n",
       "      <td>4067.000000</td>\n",
       "      <td>4067.000000</td>\n",
       "      <td>4067.000000</td>\n",
       "      <td>4067.000000</td>\n",
       "      <td>4067.000000</td>\n",
       "      <td>4067.000000</td>\n",
       "    </tr>\n",
       "    <tr>\n",
       "      <th>mean</th>\n",
       "      <td>9.934104</td>\n",
       "      <td>0.943939</td>\n",
       "      <td>0.528932</td>\n",
       "      <td>0.411844</td>\n",
       "      <td>0.140777</td>\n",
       "      <td>0.838746</td>\n",
       "      <td>0.364741</td>\n",
       "      <td>0.183047</td>\n",
       "      <td>0.241086</td>\n",
       "    </tr>\n",
       "    <tr>\n",
       "      <th>std</th>\n",
       "      <td>2.916629</td>\n",
       "      <td>0.824970</td>\n",
       "      <td>0.113202</td>\n",
       "      <td>0.093778</td>\n",
       "      <td>0.040295</td>\n",
       "      <td>0.481763</td>\n",
       "      <td>0.219426</td>\n",
       "      <td>0.108078</td>\n",
       "      <td>0.135620</td>\n",
       "    </tr>\n",
       "    <tr>\n",
       "      <th>min</th>\n",
       "      <td>5.000000</td>\n",
       "      <td>0.000000</td>\n",
       "      <td>0.155000</td>\n",
       "      <td>0.115000</td>\n",
       "      <td>0.000000</td>\n",
       "      <td>0.021000</td>\n",
       "      <td>0.007500</td>\n",
       "      <td>0.003500</td>\n",
       "      <td>0.005000</td>\n",
       "    </tr>\n",
       "    <tr>\n",
       "      <th>25%</th>\n",
       "      <td>8.000000</td>\n",
       "      <td>0.000000</td>\n",
       "      <td>0.455000</td>\n",
       "      <td>0.350000</td>\n",
       "      <td>0.115000</td>\n",
       "      <td>0.455250</td>\n",
       "      <td>0.192000</td>\n",
       "      <td>0.096500</td>\n",
       "      <td>0.135000</td>\n",
       "    </tr>\n",
       "    <tr>\n",
       "      <th>50%</th>\n",
       "      <td>10.000000</td>\n",
       "      <td>1.000000</td>\n",
       "      <td>0.545000</td>\n",
       "      <td>0.425000</td>\n",
       "      <td>0.145000</td>\n",
       "      <td>0.807000</td>\n",
       "      <td>0.341000</td>\n",
       "      <td>0.172000</td>\n",
       "      <td>0.235000</td>\n",
       "    </tr>\n",
       "    <tr>\n",
       "      <th>75%</th>\n",
       "      <td>11.000000</td>\n",
       "      <td>2.000000</td>\n",
       "      <td>0.615000</td>\n",
       "      <td>0.480000</td>\n",
       "      <td>0.165000</td>\n",
       "      <td>1.155500</td>\n",
       "      <td>0.505500</td>\n",
       "      <td>0.254000</td>\n",
       "      <td>0.329250</td>\n",
       "    </tr>\n",
       "    <tr>\n",
       "      <th>max</th>\n",
       "      <td>20.000000</td>\n",
       "      <td>2.000000</td>\n",
       "      <td>0.815000</td>\n",
       "      <td>0.650000</td>\n",
       "      <td>1.130000</td>\n",
       "      <td>2.825500</td>\n",
       "      <td>1.488000</td>\n",
       "      <td>0.760000</td>\n",
       "      <td>1.005000</td>\n",
       "    </tr>\n",
       "  </tbody>\n",
       "</table>\n",
       "</div>"
      ],
      "text/plain": [
       "             Rings          Sex       Length     Diameter       Height  \\\n",
       "count  4067.000000  4067.000000  4067.000000  4067.000000  4067.000000   \n",
       "mean      9.934104     0.943939     0.528932     0.411844     0.140777   \n",
       "std       2.916629     0.824970     0.113202     0.093778     0.040295   \n",
       "min       5.000000     0.000000     0.155000     0.115000     0.000000   \n",
       "25%       8.000000     0.000000     0.455000     0.350000     0.115000   \n",
       "50%      10.000000     1.000000     0.545000     0.425000     0.145000   \n",
       "75%      11.000000     2.000000     0.615000     0.480000     0.165000   \n",
       "max      20.000000     2.000000     0.815000     0.650000     1.130000   \n",
       "\n",
       "       WholeWeight  ShuckedWeight  VisceraWeight  ShellWeight  \n",
       "count  4067.000000    4067.000000    4067.000000  4067.000000  \n",
       "mean      0.838746       0.364741       0.183047     0.241086  \n",
       "std       0.481763       0.219426       0.108078     0.135620  \n",
       "min       0.021000       0.007500       0.003500     0.005000  \n",
       "25%       0.455250       0.192000       0.096500     0.135000  \n",
       "50%       0.807000       0.341000       0.172000     0.235000  \n",
       "75%       1.155500       0.505500       0.254000     0.329250  \n",
       "max       2.825500       1.488000       0.760000     1.005000  "
      ]
     },
     "execution_count": 174,
     "metadata": {},
     "output_type": "execute_result"
    }
   ],
   "source": [
    "dfFiltrado.describe()"
   ]
  },
  {
   "cell_type": "code",
   "execution_count": 175,
   "metadata": {},
   "outputs": [
    {
     "name": "stdout",
     "output_type": "stream",
     "text": [
      "Shape de X_train: (2846, 7)\n",
      "Shape de X_test: (1221, 7)\n",
      "Shape de y_train: (2846,)\n",
      "Shape de y_test: (1221,)\n"
     ]
    }
   ],
   "source": [
    "X = dfFiltrado.iloc[:,1:8]\n",
    "y = dfFiltrado.iloc[:,0]\n",
    "\n",
    "#Separando o conjunto de dados em treinamento e teste\n",
    "X_train, X_test, y_train, y_test = train_test_split(X, y, test_size=0.3, stratify=y, random_state=20)\n",
    "\n",
    "print(\"Shape de X_train:\", X_train.shape)\n",
    "print(\"Shape de X_test:\", X_test.shape)\n",
    "print(\"Shape de y_train:\", y_train.shape)\n",
    "print(\"Shape de y_test:\", y_test.shape)"
   ]
  },
  {
   "cell_type": "markdown",
   "metadata": {},
   "source": [
    "### Treinando o modelo"
   ]
  },
  {
   "cell_type": "code",
   "execution_count": 176,
   "metadata": {},
   "outputs": [
    {
     "name": "stdout",
     "output_type": "stream",
     "text": [
      "              precision    recall  f1-score   support\n",
      "\n",
      "           5       0.57      0.12      0.20        34\n",
      "           6       0.35      0.44      0.39        78\n",
      "           7       0.28      0.30      0.29       117\n",
      "           8       0.28      0.32      0.30       171\n",
      "           9       0.25      0.43      0.32       207\n",
      "          10       0.25      0.39      0.30       190\n",
      "          11       0.28      0.27      0.27       146\n",
      "          12       0.00      0.00      0.00        80\n",
      "          13       0.00      0.00      0.00        61\n",
      "          14       0.00      0.00      0.00        38\n",
      "          15       0.00      0.00      0.00        31\n",
      "          16       0.00      0.00      0.00        20\n",
      "          17       0.00      0.00      0.00        17\n",
      "          18       0.00      0.00      0.00        13\n",
      "          19       0.00      0.00      0.00        10\n",
      "          20       0.00      0.00      0.00         8\n",
      "\n",
      "    accuracy                           0.27      1221\n",
      "   macro avg       0.14      0.14      0.13      1221\n",
      "weighted avg       0.22      0.27      0.23      1221\n",
      "\n"
     ]
    }
   ],
   "source": [
    "model = LogisticRegression()\n",
    "\n",
    "#treinando o modelo\n",
    "model.fit(X_train, y_train)\n",
    "\n",
    "#predição\n",
    "y_pred = model.predict(X_test)\n",
    "\n",
    "#Resultados do classificador\n",
    "print(classification_report(y_test, y_pred))"
   ]
  },
  {
   "cell_type": "code",
   "execution_count": 177,
   "metadata": {},
   "outputs": [
    {
     "name": "stdout",
     "output_type": "stream",
     "text": [
      "              precision    recall  f1-score   support\n",
      "\n",
      "           5       0.67      0.59      0.62        34\n",
      "           6       0.38      0.33      0.36        78\n",
      "           7       0.35      0.38      0.36       117\n",
      "           8       0.37      0.27      0.31       171\n",
      "           9       0.28      0.43      0.34       207\n",
      "          10       0.20      0.39      0.27       190\n",
      "          11       0.31      0.24      0.27       146\n",
      "          12       0.00      0.00      0.00        80\n",
      "          13       0.15      0.11      0.13        61\n",
      "          14       0.00      0.00      0.00        38\n",
      "          15       0.00      0.00      0.00        31\n",
      "          16       0.25      0.10      0.14        20\n",
      "          17       0.33      0.06      0.10        17\n",
      "          18       0.00      0.00      0.00        13\n",
      "          19       0.00      0.00      0.00        10\n",
      "          20       0.00      0.00      0.00         8\n",
      "\n",
      "    accuracy                           0.28      1221\n",
      "   macro avg       0.21      0.18      0.18      1221\n",
      "weighted avg       0.26      0.28      0.26      1221\n",
      "\n"
     ]
    }
   ],
   "source": [
    "from sklearn.neural_network import MLPClassifier\n",
    "\n",
    "# Definindo o modelo MLP\n",
    "model = MLPClassifier(hidden_layer_sizes=(300), activation='relu', random_state=20)\n",
    "\n",
    "# Treinando o modelo\n",
    "model.fit(X_train, y_train)\n",
    "\n",
    "# Predição\n",
    "y_pred = model.predict(X_test)\n",
    "\n",
    "# Resultados do classificador\n",
    "print(classification_report(y_test, y_pred))"
   ]
  },
  {
   "cell_type": "markdown",
   "metadata": {},
   "source": [
    "----------------------------------------------------------------\n",
    "## SMOTE"
   ]
  },
  {
   "cell_type": "markdown",
   "metadata": {},
   "source": [
    "Vamos usar um pacote que lida com problemas de desbalanceamento de classes em conjuntos de dados, oferecendo técnicas como:\n",
    "\n",
    "- SMOTE (oversampling): que gera novas amostras sintéticas da classe **minoritária**, em vez de simplesmente duplicar as amostras existentes.\n",
    "- Undersampling: reduz o número de amostras da classe **majoritária** para balancear o dataset.\n",
    "\n",
    "Lembre de instalar o `imblearn`:"
   ]
  },
  {
   "cell_type": "code",
   "execution_count": 178,
   "metadata": {},
   "outputs": [],
   "source": [
    "# !pip install imblearn"
   ]
  },
  {
   "cell_type": "code",
   "execution_count": 179,
   "metadata": {},
   "outputs": [],
   "source": [
    "from imblearn.over_sampling import SMOTE"
   ]
  },
  {
   "cell_type": "markdown",
   "metadata": {},
   "source": [
    "### Aplicando o SMOTE"
   ]
  },
  {
   "cell_type": "code",
   "execution_count": 180,
   "metadata": {},
   "outputs": [],
   "source": [
    "smt = SMOTE(random_state=20, sampling_strategy='auto')\n",
    "X_smt, y_smt = smt.fit_resample(X_train, y_train)"
   ]
  },
  {
   "cell_type": "markdown",
   "metadata": {},
   "source": [
    "### Gerando um novo dataset (balanceado)"
   ]
  },
  {
   "cell_type": "markdown",
   "metadata": {},
   "source": [
    "Criando um novo dataset com as amostras balanceadas..."
   ]
  },
  {
   "cell_type": "code",
   "execution_count": 181,
   "metadata": {},
   "outputs": [
    {
     "name": "stdout",
     "output_type": "stream",
     "text": [
      "(7712, 8)\n"
     ]
    },
    {
     "data": {
      "text/plain": [
       "<Axes: xlabel='Rings', ylabel='Rings'>"
      ]
     },
     "execution_count": 181,
     "metadata": {},
     "output_type": "execute_result"
    },
    {
     "data": {
      "image/png": "[encoded data removed]",
      "text/plain": [
       "<Figure size 640x480 with 1 Axes>"
      ]
     },
     "metadata": {},
     "output_type": "display_data"
    }
   ],
   "source": [
    "df_SMOTE = pd.DataFrame(X_smt, columns=X_train.columns)\n",
    "df_SMOTE.insert(0, 'Rings', y_smt)  # Inserir 'Rings' na posição 0\n",
    "\n",
    "print(df_SMOTE.shape)\n",
    "\n",
    "#percentual \n",
    "sns.barplot(x=\"Rings\", y=\"Rings\",  data=df_SMOTE,  estimator=lambda x: len(x) / len(df_SMOTE) * 100)"
   ]
  },
  {
   "cell_type": "code",
   "execution_count": 182,
   "metadata": {},
   "outputs": [
    {
     "data": {
      "text/html": [
       "<div>\n",
       "<style scoped>\n",
       "    .dataframe tbody tr th:only-of-type {\n",
       "        vertical-align: middle;\n",
       "    }\n",
       "\n",
       "    .dataframe tbody tr th {\n",
       "        vertical-align: top;\n",
       "    }\n",
       "\n",
       "    .dataframe thead th {\n",
       "        text-align: right;\n",
       "    }\n",
       "</style>\n",
       "<table border=\"1\" class=\"dataframe\">\n",
       "  <thead>\n",
       "    <tr style=\"text-align: right;\">\n",
       "      <th></th>\n",
       "      <th>Rings</th>\n",
       "      <th>Sex</th>\n",
       "      <th>Length</th>\n",
       "      <th>Diameter</th>\n",
       "      <th>Height</th>\n",
       "      <th>WholeWeight</th>\n",
       "      <th>ShuckedWeight</th>\n",
       "      <th>VisceraWeight</th>\n",
       "    </tr>\n",
       "  </thead>\n",
       "  <tbody>\n",
       "    <tr>\n",
       "      <th>count</th>\n",
       "      <td>7712.000000</td>\n",
       "      <td>7712.000000</td>\n",
       "      <td>7712.000000</td>\n",
       "      <td>7712.000000</td>\n",
       "      <td>7712.000000</td>\n",
       "      <td>7712.000000</td>\n",
       "      <td>7712.000000</td>\n",
       "      <td>7712.000000</td>\n",
       "    </tr>\n",
       "    <tr>\n",
       "      <th>mean</th>\n",
       "      <td>12.500000</td>\n",
       "      <td>0.855939</td>\n",
       "      <td>0.539819</td>\n",
       "      <td>0.423196</td>\n",
       "      <td>0.147653</td>\n",
       "      <td>0.922326</td>\n",
       "      <td>0.373742</td>\n",
       "      <td>0.196932</td>\n",
       "    </tr>\n",
       "    <tr>\n",
       "      <th>std</th>\n",
       "      <td>4.610071</td>\n",
       "      <td>0.800317</td>\n",
       "      <td>0.116468</td>\n",
       "      <td>0.097979</td>\n",
       "      <td>0.039102</td>\n",
       "      <td>0.501678</td>\n",
       "      <td>0.210132</td>\n",
       "      <td>0.108707</td>\n",
       "    </tr>\n",
       "    <tr>\n",
       "      <th>min</th>\n",
       "      <td>5.000000</td>\n",
       "      <td>0.000000</td>\n",
       "      <td>0.175000</td>\n",
       "      <td>0.125000</td>\n",
       "      <td>0.000000</td>\n",
       "      <td>0.023500</td>\n",
       "      <td>0.008000</td>\n",
       "      <td>0.003500</td>\n",
       "    </tr>\n",
       "    <tr>\n",
       "      <th>25%</th>\n",
       "      <td>8.750000</td>\n",
       "      <td>0.000000</td>\n",
       "      <td>0.475000</td>\n",
       "      <td>0.370000</td>\n",
       "      <td>0.125000</td>\n",
       "      <td>0.546504</td>\n",
       "      <td>0.218186</td>\n",
       "      <td>0.115500</td>\n",
       "    </tr>\n",
       "    <tr>\n",
       "      <th>50%</th>\n",
       "      <td>12.500000</td>\n",
       "      <td>1.000000</td>\n",
       "      <td>0.564694</td>\n",
       "      <td>0.442900</td>\n",
       "      <td>0.155000</td>\n",
       "      <td>0.938706</td>\n",
       "      <td>0.365075</td>\n",
       "      <td>0.196000</td>\n",
       "    </tr>\n",
       "    <tr>\n",
       "      <th>75%</th>\n",
       "      <td>16.250000</td>\n",
       "      <td>2.000000</td>\n",
       "      <td>0.625000</td>\n",
       "      <td>0.495000</td>\n",
       "      <td>0.175000</td>\n",
       "      <td>1.259029</td>\n",
       "      <td>0.507889</td>\n",
       "      <td>0.268513</td>\n",
       "    </tr>\n",
       "    <tr>\n",
       "      <th>max</th>\n",
       "      <td>20.000000</td>\n",
       "      <td>2.000000</td>\n",
       "      <td>0.815000</td>\n",
       "      <td>0.650000</td>\n",
       "      <td>0.515000</td>\n",
       "      <td>2.825500</td>\n",
       "      <td>1.488000</td>\n",
       "      <td>0.760000</td>\n",
       "    </tr>\n",
       "  </tbody>\n",
       "</table>\n",
       "</div>"
      ],
      "text/plain": [
       "             Rings          Sex       Length     Diameter       Height  \\\n",
       "count  7712.000000  7712.000000  7712.000000  7712.000000  7712.000000   \n",
       "mean     12.500000     0.855939     0.539819     0.423196     0.147653   \n",
       "std       4.610071     0.800317     0.116468     0.097979     0.039102   \n",
       "min       5.000000     0.000000     0.175000     0.125000     0.000000   \n",
       "25%       8.750000     0.000000     0.475000     0.370000     0.125000   \n",
       "50%      12.500000     1.000000     0.564694     0.442900     0.155000   \n",
       "75%      16.250000     2.000000     0.625000     0.495000     0.175000   \n",
       "max      20.000000     2.000000     0.815000     0.650000     0.515000   \n",
       "\n",
       "       WholeWeight  ShuckedWeight  VisceraWeight  \n",
       "count  7712.000000    7712.000000    7712.000000  \n",
       "mean      0.922326       0.373742       0.196932  \n",
       "std       0.501678       0.210132       0.108707  \n",
       "min       0.023500       0.008000       0.003500  \n",
       "25%       0.546504       0.218186       0.115500  \n",
       "50%       0.938706       0.365075       0.196000  \n",
       "75%       1.259029       0.507889       0.268513  \n",
       "max       2.825500       1.488000       0.760000  "
      ]
     },
     "execution_count": 182,
     "metadata": {},
     "output_type": "execute_result"
    }
   ],
   "source": [
    "df_SMOTE.describe()"
   ]
  },
  {
   "cell_type": "code",
   "execution_count": 183,
   "metadata": {},
   "outputs": [
    {
     "name": "stdout",
     "output_type": "stream",
     "text": [
      "Shape de X_train: (5398, 7)\n",
      "Shape de X_test: (2314, 7)\n",
      "Shape de y_train: (5398,)\n",
      "Shape de y_test: (2314,)\n"
     ]
    }
   ],
   "source": [
    "X = df_SMOTE.iloc[:,1:8]\n",
    "y = df_SMOTE.iloc[:,0]\n",
    "\n",
    "#Separando o conjunto de dados em treinamento e teste\n",
    "X_train, X_test, y_train, y_test = train_test_split(X, y, test_size=0.3, stratify=y, random_state=20)\n",
    "\n",
    "print(\"Shape de X_train:\", X_train.shape)\n",
    "print(\"Shape de X_test:\", X_test.shape)\n",
    "print(\"Shape de y_train:\", y_train.shape)\n",
    "print(\"Shape de y_test:\", y_test.shape)"
   ]
  },
  {
   "cell_type": "markdown",
   "metadata": {},
   "source": [
    "### Treinando o modelo"
   ]
  },
  {
   "cell_type": "code",
   "execution_count": 184,
   "metadata": {},
   "outputs": [
    {
     "name": "stdout",
     "output_type": "stream",
     "text": [
      "              precision    recall  f1-score   support\n",
      "\n",
      "           5       0.58      0.84      0.69       145\n",
      "           6       0.35      0.38      0.36       144\n",
      "           7       0.18      0.21      0.19       145\n",
      "           8       0.17      0.25      0.20       145\n",
      "           9       0.15      0.17      0.16       145\n",
      "          10       0.21      0.10      0.14       144\n",
      "          11       0.24      0.40      0.30       145\n",
      "          12       0.20      0.06      0.09       145\n",
      "          13       0.14      0.06      0.08       144\n",
      "          14       0.00      0.00      0.00       145\n",
      "          15       0.11      0.14      0.12       145\n",
      "          16       0.17      0.03      0.06       144\n",
      "          17       0.14      0.27      0.18       145\n",
      "          18       0.00      0.00      0.00       144\n",
      "          19       0.30      0.37      0.33       145\n",
      "          20       0.29      0.65      0.40       144\n",
      "\n",
      "    accuracy                           0.25      2314\n",
      "   macro avg       0.20      0.24      0.21      2314\n",
      "weighted avg       0.20      0.25      0.21      2314\n",
      "\n"
     ]
    }
   ],
   "source": [
    "model = LogisticRegression(random_state=20)\n",
    "\n",
    "#treinando o modelo\n",
    "model.fit(X_train, y_train)\n",
    "\n",
    "#predição\n",
    "y_pred = model.predict(X_test)\n",
    "\n",
    "#Resultados do classificador\n",
    "print(classification_report(y_test, y_pred))"
   ]
  },
  {
   "cell_type": "code",
   "execution_count": 185,
   "metadata": {},
   "outputs": [
    {
     "name": "stdout",
     "output_type": "stream",
     "text": [
      "              precision    recall  f1-score   support\n",
      "\n",
      "           5       0.61      0.84      0.71       145\n",
      "           6       0.37      0.31      0.34       144\n",
      "           7       0.27      0.30      0.28       145\n",
      "           8       0.35      0.25      0.29       145\n",
      "           9       0.24      0.33      0.28       145\n",
      "          10       0.19      0.13      0.16       144\n",
      "          11       0.23      0.27      0.25       145\n",
      "          12       0.30      0.09      0.14       145\n",
      "          13       0.13      0.15      0.14       144\n",
      "          14       0.16      0.11      0.13       145\n",
      "          15       0.11      0.10      0.10       145\n",
      "          16       0.20      0.07      0.10       144\n",
      "          17       0.35      0.26      0.30       145\n",
      "          18       0.62      0.22      0.33       144\n",
      "          19       0.29      0.48      0.36       145\n",
      "          20       0.32      0.83      0.46       144\n",
      "\n",
      "    accuracy                           0.30      2314\n",
      "   macro avg       0.30      0.30      0.27      2314\n",
      "weighted avg       0.30      0.30      0.27      2314\n",
      "\n"
     ]
    }
   ],
   "source": [
    "# Definindo o modelo MLP\n",
    "model = MLPClassifier(hidden_layer_sizes=(300), activation='relu', random_state=20)\n",
    "\n",
    "# Treinando o modelo\n",
    "model.fit(X_train, y_train)\n",
    "\n",
    "# Predição\n",
    "y_pred = model.predict(X_test)\n",
    "\n",
    "# Resultados do classificador\n",
    "print(classification_report(y_test, y_pred))"
   ]
  },
  {
   "cell_type": "markdown",
   "metadata": {},
   "source": [
    "--------------------\n",
    "\n",
    "Experimente com uma seleção diferente da base.\n",
    "\n",
    "Que tal var_min = 4 e var_max = 12?"
   ]
  },
  {
   "cell_type": "markdown",
   "metadata": {},
   "source": []
  }
 ],
 "metadata": {
  "kernelspec": {
   "display_name": "Python 3",
   "language": "python",
   "name": "python3"
  },
  "language_info": {
   "codemirror_mode": {
    "name": "ipython",
    "version": 3
   },
   "file_extension": ".py",
   "mimetype": "text/x-python",
   "name": "python",
   "nbconvert_exporter": "python",
   "pygments_lexer": "ipython3",
   "version": "3.11.9"
  },
  "orig_nbformat": 4
 },
 "nbformat": 4,
 "nbformat_minor": 2
}
